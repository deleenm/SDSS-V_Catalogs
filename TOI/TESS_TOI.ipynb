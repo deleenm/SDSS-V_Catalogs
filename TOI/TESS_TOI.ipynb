{
 "cells": [
  {
   "cell_type": "markdown",
   "metadata": {},
   "source": [
    "# TESS Observed Catalog\n",
    "This notebook aims to create a list of stars observed by TESS either in 2 minute cadence mode, or as a TOI or CTOI. These are the main classifications we need to use for SDSS-V targeting."
   ]
  },
  {
   "cell_type": "markdown",
   "metadata": {},
   "source": [
    "## Create list of TESS 2-minute cadence stars. \n",
    "Sectors 1 through 54 are currently available here: https://tess.mit.edu/observations/target-lists/\n",
    "Last updated 08/01/2022"
   ]
  },
  {
   "cell_type": "code",
   "execution_count": 1,
   "metadata": {},
   "outputs": [],
   "source": [
    "import numpy as np\n",
    "from matplotlib import pyplot as plt\n",
    "from astropy.table import Table,vstack\n",
    "from astropy.coordinates import SkyCoord\n",
    "from astropy.coordinates import Galactic,FK5,BarycentricTrueEcliptic\n",
    "import astropy.units as u\n",
    "import time\n",
    "from astroquery.mast import Catalogs\n",
    "%matplotlib inline"
   ]
  },
  {
   "cell_type": "code",
   "execution_count": 3,
   "metadata": {},
   "outputs": [
    {
     "data": {
      "text/html": [
       "<i>Table length=1067880</i>\n",
       "<table id=\"table140047344110928\" class=\"table-striped table-bordered table-condensed\">\n",
       "<thead><tr><th>TICID</th><th>Camera</th><th>CCD</th><th>Tmag</th><th>RA</th><th>Dec</th><th>Sector</th></tr></thead>\n",
       "<thead><tr><th>int64</th><th>int64</th><th>int64</th><th>float64</th><th>float64</th><th>float64</th><th>int64</th></tr></thead>\n",
       "<tr><td>8195886</td><td>1</td><td>1</td><td>9.85</td><td>311.3326</td><td>-38.4275</td><td>1</td></tr>\n",
       "<tr><td>8196058</td><td>1</td><td>1</td><td>8.18</td><td>311.3688</td><td>-38.0655</td><td>1</td></tr>\n",
       "<tr><td>8196173</td><td>1</td><td>1</td><td>8.99</td><td>311.4127</td><td>-37.8439</td><td>1</td></tr>\n",
       "<tr><td>8196285</td><td>1</td><td>1</td><td>9.08</td><td>311.356</td><td>-37.5918</td><td>1</td></tr>\n",
       "<tr><td>8196324</td><td>1</td><td>1</td><td>9.39</td><td>311.3043</td><td>-37.5068</td><td>1</td></tr>\n",
       "<tr><td>8196402</td><td>1</td><td>1</td><td>9.97</td><td>311.4088</td><td>-37.3279</td><td>1</td></tr>\n",
       "<tr><td>24195569</td><td>1</td><td>4</td><td>12.75</td><td>317.9844</td><td>-22.8767</td><td>1</td></tr>\n",
       "<tr><td>24195690</td><td>1</td><td>4</td><td>9.41</td><td>318.0197</td><td>-22.5439</td><td>1</td></tr>\n",
       "<tr><td>24231627</td><td>1</td><td>4</td><td>9.64</td><td>318.1267</td><td>-23.4428</td><td>1</td></tr>\n",
       "<tr><td>24265684</td><td>1</td><td>4</td><td>7.49</td><td>318.3628</td><td>-22.5463</td><td>1</td></tr>\n",
       "<tr><td>...</td><td>...</td><td>...</td><td>...</td><td>...</td><td>...</td><td>...</td></tr>\n",
       "<tr><td>1996744796</td><td>1</td><td>4</td><td>18.05</td><td>310.2889</td><td>-8.5225</td><td>54</td></tr>\n",
       "<tr><td>1996755781</td><td>1</td><td>4</td><td>17.07</td><td>308.5792</td><td>-8.5751</td><td>54</td></tr>\n",
       "<tr><td>1996771531</td><td>1</td><td>4</td><td>18.64</td><td>309.6841</td><td>-7.5755</td><td>54</td></tr>\n",
       "<tr><td>1996776461</td><td>1</td><td>4</td><td>18.17</td><td>309.1713</td><td>-7.5972</td><td>54</td></tr>\n",
       "<tr><td>1996845832</td><td>1</td><td>4</td><td>17.34</td><td>308.5117</td><td>-6.9701</td><td>54</td></tr>\n",
       "<tr><td>1996867589</td><td>1</td><td>4</td><td>17.45</td><td>308.3095</td><td>-6.4168</td><td>54</td></tr>\n",
       "<tr><td>1996888751</td><td>1</td><td>4</td><td>19.14</td><td>310.0604</td><td>-6.3019</td><td>54</td></tr>\n",
       "<tr><td>1997218043</td><td>1</td><td>4</td><td>18.3</td><td>310.8031</td><td>-5.5744</td><td>54</td></tr>\n",
       "<tr><td>1997218357</td><td>1</td><td>4</td><td>17.43</td><td>310.6306</td><td>-5.5201</td><td>54</td></tr>\n",
       "<tr><td>1997256116</td><td>1</td><td>4</td><td>17.92</td><td>310.5605</td><td>-4.2455</td><td>54</td></tr>\n",
       "</table>"
      ],
      "text/plain": [
       "<Table length=1067880>\n",
       "  TICID    Camera  CCD    Tmag     RA      Dec    Sector\n",
       "  int64    int64  int64 float64 float64  float64  int64 \n",
       "---------- ------ ----- ------- -------- -------- ------\n",
       "   8195886      1     1    9.85 311.3326 -38.4275      1\n",
       "   8196058      1     1    8.18 311.3688 -38.0655      1\n",
       "   8196173      1     1    8.99 311.4127 -37.8439      1\n",
       "   8196285      1     1    9.08  311.356 -37.5918      1\n",
       "   8196324      1     1    9.39 311.3043 -37.5068      1\n",
       "   8196402      1     1    9.97 311.4088 -37.3279      1\n",
       "  24195569      1     4   12.75 317.9844 -22.8767      1\n",
       "  24195690      1     4    9.41 318.0197 -22.5439      1\n",
       "  24231627      1     4    9.64 318.1267 -23.4428      1\n",
       "  24265684      1     4    7.49 318.3628 -22.5463      1\n",
       "       ...    ...   ...     ...      ...      ...    ...\n",
       "1996744796      1     4   18.05 310.2889  -8.5225     54\n",
       "1996755781      1     4   17.07 308.5792  -8.5751     54\n",
       "1996771531      1     4   18.64 309.6841  -7.5755     54\n",
       "1996776461      1     4   18.17 309.1713  -7.5972     54\n",
       "1996845832      1     4   17.34 308.5117  -6.9701     54\n",
       "1996867589      1     4   17.45 308.3095  -6.4168     54\n",
       "1996888751      1     4   19.14 310.0604  -6.3019     54\n",
       "1997218043      1     4    18.3 310.8031  -5.5744     54\n",
       "1997218357      1     4   17.43 310.6306  -5.5201     54\n",
       "1997256116      1     4   17.92 310.5605  -4.2455     54"
      ]
     },
     "execution_count": 3,
     "metadata": {},
     "output_type": "execute_result"
    }
   ],
   "source": [
    "all_tab = Table()\n",
    "for i in range(1,54+1):\n",
    "    temp_tab = Table.read('Target_Lists/all_targets_S0{:02d}_v1.csv'.format(i),comment='#')\n",
    "    temp_tab['Sector'] = np.repeat(i,len(temp_tab))\n",
    "    all_tab = vstack([all_tab,temp_tab])\n",
    "all_tab"
   ]
  },
  {
   "cell_type": "markdown",
   "metadata": {},
   "source": [
    "## Create an array of unique ids"
   ]
  },
  {
   "cell_type": "code",
   "execution_count": 4,
   "metadata": {},
   "outputs": [
    {
     "name": "stdout",
     "output_type": "stream",
     "text": [
      "422103\n"
     ]
    }
   ],
   "source": [
    "(id_array,idx_array,counts_array) = np.unique(all_tab['TICID'],return_index=True,return_counts=True)\n",
    "print(len(id_array))"
   ]
  },
  {
   "cell_type": "code",
   "execution_count": 5,
   "metadata": {},
   "outputs": [
    {
     "name": "stdout",
     "output_type": "stream",
     "text": [
      "422103\n"
     ]
    }
   ],
   "source": [
    "twomin_tab = all_tab[idx_array]\n",
    "print(len(id_array))"
   ]
  },
  {
   "cell_type": "code",
   "execution_count": 6,
   "metadata": {},
   "outputs": [
    {
     "data": {
      "text/html": [
       "<i>Table length=422103</i>\n",
       "<table id=\"table140048080280016\" class=\"table-striped table-bordered table-condensed\">\n",
       "<thead><tr><th>TICID</th><th>Camera</th><th>CCD</th><th>Tmag</th><th>RA</th><th>Dec</th><th>Sector</th><th>Num_Sectors</th></tr></thead>\n",
       "<thead><tr><th>int64</th><th>int64</th><th>int64</th><th>float64</th><th>float64</th><th>float64</th><th>int64</th><th>int64</th></tr></thead>\n",
       "<tr><td>101</td><td>1</td><td>4</td><td>11.28</td><td>218.7534</td><td>-29.7862</td><td>38</td><td>1</td></tr>\n",
       "<tr><td>185</td><td>1</td><td>4</td><td>11.64</td><td>218.7429</td><td>-29.6293</td><td>38</td><td>1</td></tr>\n",
       "<tr><td>358</td><td>1</td><td>4</td><td>9.29</td><td>218.7989</td><td>-29.3487</td><td>38</td><td>1</td></tr>\n",
       "<tr><td>382</td><td>1</td><td>4</td><td>10.17</td><td>218.8319</td><td>-29.3145</td><td>38</td><td>1</td></tr>\n",
       "<tr><td>1078</td><td>1</td><td>4</td><td>9.56</td><td>218.8132</td><td>-28.2282</td><td>11</td><td>1</td></tr>\n",
       "<tr><td>1275</td><td>1</td><td>4</td><td>9.54</td><td>218.8347</td><td>-27.9237</td><td>11</td><td>1</td></tr>\n",
       "<tr><td>1307</td><td>1</td><td>4</td><td>10.08</td><td>218.8137</td><td>-27.8589</td><td>11</td><td>2</td></tr>\n",
       "<tr><td>1454</td><td>1</td><td>4</td><td>9.96</td><td>218.7553</td><td>-27.6012</td><td>11</td><td>1</td></tr>\n",
       "<tr><td>1608</td><td>1</td><td>4</td><td>8.69</td><td>218.7851</td><td>-27.3467</td><td>11</td><td>2</td></tr>\n",
       "<tr><td>1886</td><td>1</td><td>4</td><td>11.58</td><td>218.7472</td><td>-26.8659</td><td>38</td><td>1</td></tr>\n",
       "<tr><td>...</td><td>...</td><td>...</td><td>...</td><td>...</td><td>...</td><td>...</td><td>...</td></tr>\n",
       "<tr><td>10002566961</td><td>3</td><td>4</td><td>13.37</td><td>66.9889</td><td>26.3217</td><td>43</td><td>2</td></tr>\n",
       "<tr><td>10002567108</td><td>3</td><td>4</td><td>14.81</td><td>67.3753</td><td>24.6652</td><td>43</td><td>2</td></tr>\n",
       "<tr><td>10005000001</td><td>2</td><td>4</td><td>3.84</td><td>10.6847</td><td>41.2687</td><td>17</td><td>1</td></tr>\n",
       "<tr><td>10005000029</td><td>4</td><td>3</td><td>7.73</td><td>189.9979</td><td>-11.6231</td><td>46</td><td>1</td></tr>\n",
       "<tr><td>10005000078</td><td>1</td><td>3</td><td>8.55</td><td>187.7059</td><td>12.3911</td><td>23</td><td>1</td></tr>\n",
       "<tr><td>10005000124</td><td>1</td><td>4</td><td>8.94</td><td>186.2657</td><td>12.887</td><td>49</td><td>1</td></tr>\n",
       "<tr><td>10005000252</td><td>1</td><td>4</td><td>9.4</td><td>188.9162</td><td>12.556</td><td>49</td><td>1</td></tr>\n",
       "<tr><td>10005000289</td><td>4</td><td>1</td><td>10.02</td><td>184.8469</td><td>5.8247</td><td>46</td><td>2</td></tr>\n",
       "<tr><td>10005000539</td><td>1</td><td>1</td><td>5.28</td><td>250.4235</td><td>36.4613</td><td>24</td><td>4</td></tr>\n",
       "<tr><td>10005000540</td><td>3</td><td>1</td><td>3.23</td><td>6.0223</td><td>-72.0814</td><td>27</td><td>2</td></tr>\n",
       "</table>"
      ],
      "text/plain": [
       "<Table length=422103>\n",
       "   TICID    Camera  CCD    Tmag     RA      Dec    Sector Num_Sectors\n",
       "   int64    int64  int64 float64 float64  float64  int64     int64   \n",
       "----------- ------ ----- ------- -------- -------- ------ -----------\n",
       "        101      1     4   11.28 218.7534 -29.7862     38           1\n",
       "        185      1     4   11.64 218.7429 -29.6293     38           1\n",
       "        358      1     4    9.29 218.7989 -29.3487     38           1\n",
       "        382      1     4   10.17 218.8319 -29.3145     38           1\n",
       "       1078      1     4    9.56 218.8132 -28.2282     11           1\n",
       "       1275      1     4    9.54 218.8347 -27.9237     11           1\n",
       "       1307      1     4   10.08 218.8137 -27.8589     11           2\n",
       "       1454      1     4    9.96 218.7553 -27.6012     11           1\n",
       "       1608      1     4    8.69 218.7851 -27.3467     11           2\n",
       "       1886      1     4   11.58 218.7472 -26.8659     38           1\n",
       "        ...    ...   ...     ...      ...      ...    ...         ...\n",
       "10002566961      3     4   13.37  66.9889  26.3217     43           2\n",
       "10002567108      3     4   14.81  67.3753  24.6652     43           2\n",
       "10005000001      2     4    3.84  10.6847  41.2687     17           1\n",
       "10005000029      4     3    7.73 189.9979 -11.6231     46           1\n",
       "10005000078      1     3    8.55 187.7059  12.3911     23           1\n",
       "10005000124      1     4    8.94 186.2657   12.887     49           1\n",
       "10005000252      1     4     9.4 188.9162   12.556     49           1\n",
       "10005000289      4     1   10.02 184.8469   5.8247     46           2\n",
       "10005000539      1     1    5.28 250.4235  36.4613     24           4\n",
       "10005000540      3     1    3.23   6.0223 -72.0814     27           2"
      ]
     },
     "execution_count": 6,
     "metadata": {},
     "output_type": "execute_result"
    }
   ],
   "source": [
    "twomin_tab['Num_Sectors'] = counts_array\n",
    "twomin_tab"
   ]
  },
  {
   "cell_type": "code",
   "execution_count": 7,
   "metadata": {},
   "outputs": [
    {
     "data": {
      "text/html": [
       "<i>Table length=1</i>\n",
       "<table id=\"table140047340072208\" class=\"table-striped table-bordered table-condensed\">\n",
       "<thead><tr><th>TICID</th><th>Camera</th><th>CCD</th><th>Tmag</th><th>RA</th><th>Dec</th><th>Sector</th><th>Num_Sectors</th></tr></thead>\n",
       "<thead><tr><th>int64</th><th>int64</th><th>int64</th><th>float64</th><th>float64</th><th>float64</th><th>int64</th><th>int64</th></tr></thead>\n",
       "<tr><td>2051546579</td><td>3</td><td>2</td><td>16.8</td><td>359.385</td><td>79.2664</td><td>18</td><td>6</td></tr>\n",
       "</table>"
      ],
      "text/plain": [
       "<Table length=1>\n",
       "  TICID    Camera  CCD    Tmag     RA     Dec   Sector Num_Sectors\n",
       "  int64    int64  int64 float64 float64 float64 int64     int64   \n",
       "---------- ------ ----- ------- ------- ------- ------ -----------\n",
       "2051546579      3     2    16.8 359.385 79.2664     18           6"
      ]
     },
     "execution_count": 7,
     "metadata": {},
     "output_type": "execute_result"
    }
   ],
   "source": [
    "test_tab = twomin_tab[(twomin_tab['TICID'] == 2051546579)]\n",
    "test_tab"
   ]
  },
  {
   "cell_type": "code",
   "execution_count": null,
   "metadata": {},
   "outputs": [],
   "source": [
    "test_tab2 = all_tab[(all_tab['TICID'] == 2051546579)]\n",
    "test_tab2"
   ]
  },
  {
   "cell_type": "markdown",
   "metadata": {},
   "source": [
    "## Create list of TIO/CTIO targets MIT\n",
    "- Sectors 1 through 54 are currently available here:https://tess.mit.edu/toi-releases/\n",
    "- Downloaded TOI List\n",
    "- Last updated 08/05/2022"
   ]
  },
  {
   "cell_type": "code",
   "execution_count": 8,
   "metadata": {},
   "outputs": [
    {
     "data": {
      "text/html": [
       "<i>Table length=5808</i>\n",
       "<table id=\"table140047339756816\" class=\"table-striped table-bordered table-condensed\">\n",
       "<thead><tr><th>Parameter Source Pipeline</th><th>Stellar Catalog</th><th>TIC</th><th>Full TOI ID</th><th>Signal ID</th><th>TOI Disposition</th><th>EXOFOP Disposition</th><th>TIC Right Ascension</th><th>TIC Declination</th><th>TMag Value</th><th>TMag Uncertainty</th><th>VMag Value</th><th>VMag Uncertainty</th><th>Epoch Value</th><th>Epoch Error</th><th>Orbital Period Value</th><th>Orbital Period Error</th><th>Transit Duration Value</th><th>Transit Duration Error</th><th>Transit Depth Value</th><th>Transit Depth Error</th><th>Sectors</th><th>Public Comment</th><th>Alerted</th><th>Edited</th></tr></thead>\n",
       "<thead><tr><th>str31</th><th>str8</th><th>int64</th><th>float64</th><th>int64</th><th>str2</th><th>str3</th><th>float64</th><th>float64</th><th>float64</th><th>float64</th><th>float64</th><th>float64</th><th>float64</th><th>float64</th><th>float64</th><th>float64</th><th>float64</th><th>float64</th><th>float64</th><th>float64</th><th>str95</th><th>str352</th><th>str22</th><th>str22</th></tr></thead>\n",
       "<tr><td>spoc-s01-s39-b0A-CP</td><td>--</td><td>260647166</td><td>1233.04</td><td>4</td><td>CP</td><td>CP</td><td>186.574587</td><td>-51.362819</td><td>8.618</td><td>0.018</td><td>9.25</td><td>0.03</td><td>1572.10755944675</td><td>0.0014581286</td><td>3.79588997084369</td><td>2.1116364e-05</td><td>2.46028564832258</td><td>0.5248255</td><td>317.527292830481</td><td>35.57154</td><td>[10, 11, 37]</td><td>HD 108236 b / 1233.04</td><td>2019-08-26 19:21:33+00</td><td>--</td></tr>\n",
       "<tr><td>qlp-s40-tois</td><td>tic8</td><td>75878355</td><td>2134.01</td><td>1</td><td>PC</td><td>PC</td><td>271.935199907964</td><td>39.0741455675824</td><td>7.7945</td><td>0.006</td><td>8.933</td><td>0.003</td><td>2407.5466918</td><td>0.0009339</td><td>9.2292732</td><td>3.71e-05</td><td>2.957</td><td>0.167</td><td>1480.0</td><td>0.635799</td><td>[26, 40]</td><td>--</td><td>2020-08-07 21:59:54+00</td><td>--</td></tr>\n",
       "<tr><td>qlp-s10-faintsearch</td><td>tic8</td><td>58461209</td><td>3118.01</td><td>1</td><td>PC</td><td>PC</td><td>201.3768341</td><td>-28.4135631</td><td>11.455</td><td>0.008</td><td>--</td><td>--</td><td>1594.4801606</td><td>0.0032851</td><td>3.8098324</td><td>0.0009063</td><td>3.881</td><td>0.353</td><td>3250.0</td><td>2.83471</td><td>[10]</td><td>found in faint-star QLP search</td><td>2021-06-04 01:36:37+00</td><td>--</td></tr>\n",
       "<tr><td>qlp-s21-ffi</td><td>gaia-dr2</td><td>310981412</td><td>1790.01</td><td>1</td><td>PC</td><td>FA</td><td>161.4280638</td><td>69.2007876</td><td>10.273</td><td>0.006</td><td>10.835</td><td>0.007</td><td>1684.16048</td><td>0.00806</td><td>9.62517</td><td>0.00067</td><td>3.725</td><td>0.786</td><td>540.0</td><td>2.44971</td><td>[14, 20, 21]</td><td>2.3 sigma odd-even</td><td>2020-03-12 14:22:11+00</td><td>--</td></tr>\n",
       "<tr><td>qlp-tois-update</td><td>gaia-dr2</td><td>154459165</td><td>611.01</td><td>1</td><td>PC</td><td>PC</td><td>122.0345059</td><td>-28.0660925</td><td>10.426</td><td>0.006</td><td>11.456</td><td>0.017</td><td>1491.88848</td><td>0.0071</td><td>3.14905</td><td>0.00096</td><td>3.414</td><td>1.189</td><td>990.0</td><td>27.608</td><td>[7, 8]</td><td>PC if on 154459165; could be on 154459164; faint GAIA star nearby</td><td>2019-04-01 16:51:58+00</td><td>--</td></tr>\n",
       "<tr><td>spoc-s27-b02</td><td>tic8.1</td><td>369455629</td><td>2199.01</td><td>1</td><td>KP</td><td>KP</td><td>311.673166134524</td><td>-41.820889595959</td><td>11.4513</td><td>0.006</td><td>11.98</td><td>0.037</td><td>2038.51057356526</td><td>0.0011443137</td><td>3.3771113715336</td><td>0.00032571607</td><td>2.45080293392771</td><td>0.15682563</td><td>4515.155077012</td><td>164.13101</td><td>[27]</td><td>WASP-182 b</td><td>2020-09-18 16:26:02+00</td><td>--</td></tr>\n",
       "<tr><td>qlp-s46-tois</td><td>tic8</td><td>98662211</td><td>3112.01</td><td>1</td><td>PC</td><td>PC</td><td>185.7273509</td><td>-11.5994891</td><td>12.504</td><td>0.007</td><td>--</td><td>--</td><td>2576.2165903</td><td>0.0008222</td><td>4.2842284</td><td>5.5e-06</td><td>1.497</td><td>0.258</td><td>11830.0</td><td>18.6463</td><td>[10, 36, 46]</td><td>found in faint-star QLP search; close to stellar rotation period</td><td>2021-06-04 01:36:36+00</td><td>--</td></tr>\n",
       "<tr><td>spoc-s01-s36-b0A</td><td>--</td><td>140760434</td><td>1229.01</td><td>1</td><td>EB</td><td>APC</td><td>74.130224</td><td>-74.920471</td><td>10.717</td><td>0.018</td><td>11.321</td><td>0.013</td><td>1602.52552524869</td><td>0.0006205161</td><td>31.8132264129237</td><td>4.0412702e-05</td><td>11.2567164009311</td><td>0.04278848</td><td>11479.3755469826</td><td>55.79626</td><td>[11, 12, 13, 28, 29, 30, 31, 32, 33, 34, 35, 36]</td><td>possible EB; TFOP APC; retired as SB1</td><td>2019-08-26 19:21:32+00</td><td>--</td></tr>\n",
       "<tr><td>spoc-s02</td><td>--</td><td>47525799</td><td>225.01</td><td>1</td><td>PC</td><td>PC</td><td>343.879737</td><td>-24.409619</td><td>10.948</td><td>0.018</td><td>12.061</td><td>0.04</td><td>1355.118503</td><td>0.004188</td><td>--</td><td>--</td><td>3.75</td><td>--</td><td>9680.0</td><td>--</td><td>[2]</td><td>single transit (no period); centroid information is hard to interpret</td><td>2018-11-16 21:15:42+00</td><td>--</td></tr>\n",
       "<tr><td>qlp-s39-ffi</td><td>tic8</td><td>344600402</td><td>4423.01</td><td>1</td><td>PC</td><td>FP</td><td>252.0311373</td><td>-56.6867077</td><td>10.443</td><td>0.006</td><td>--</td><td>--</td><td>2385.0155876</td><td>0.0032492</td><td>1.3875331</td><td>9.7e-06</td><td>2.372</td><td>0.411</td><td>1140.0</td><td>2.07593</td><td>[12, 39]</td><td>small centroid offset</td><td>2021-08-27 02:40:31+00</td><td>--</td></tr>\n",
       "<tr><td>...</td><td>...</td><td>...</td><td>...</td><td>...</td><td>...</td><td>...</td><td>...</td><td>...</td><td>...</td><td>...</td><td>...</td><td>...</td><td>...</td><td>...</td><td>...</td><td>...</td><td>...</td><td>...</td><td>...</td><td>...</td><td>...</td><td>...</td><td>...</td><td>...</td></tr>\n",
       "<tr><td>spoc-s01-s36-b0A-PC</td><td>--</td><td>405425498</td><td>2227.01</td><td>1</td><td>PC</td><td>PC</td><td>337.517847</td><td>-67.85027</td><td>10.002</td><td>0.018</td><td>10.515</td><td>0.005</td><td>1328.52360573171</td><td>0.0013865175</td><td>4.22175342022963</td><td>1.5934815e-05</td><td>2.66466313842276</td><td>0.34516048</td><td>578.771213010007</td><td>39.281456</td><td>[1, 27, 28]</td><td>potential L1 planet</td><td>2020-09-18 19:18:09+00</td><td>--</td></tr>\n",
       "<tr><td>spoc-s36-b0A</td><td>--</td><td>102195674</td><td>668.01</td><td>1</td><td>EB</td><td>APC</td><td>154.191863</td><td>-42.559033</td><td>11.303</td><td>0.018</td><td>11.686</td><td>0.015</td><td>2283.06560941112</td><td>0.00054231315</td><td>4.37873023118368</td><td>0.00018216146</td><td>3.8275040128084</td><td>0.03273729</td><td>30199.2684096967</td><td>340.06842</td><td>[9, 36]</td><td>TFOP APC/SB1; retired as EB</td><td>2019-05-07 15:39:33+00</td><td>--</td></tr>\n",
       "<tr><td>qlp-s16-ffi</td><td>gaia-dr2</td><td>2041563029</td><td>1427.01</td><td>1</td><td>PC</td><td>FP</td><td>346.5174592</td><td>43.8987949</td><td>10.053</td><td>0.006</td><td>10.7795</td><td>0.0459</td><td>1747.00971</td><td>0.0003</td><td>12.80758</td><td>0.00023</td><td>3.596</td><td>0.083</td><td>27112.7</td><td>6.97744</td><td>[16]</td><td>could be a multi-planet system or an EB</td><td>2019-11-12 16:59:56+00</td><td>--</td></tr>\n",
       "<tr><td>qlp-s14-ffi</td><td>--</td><td>15247229</td><td>1188.01</td><td>1</td><td>PC</td><td>FP</td><td>306.7308196</td><td>38.9322604</td><td>9.887</td><td>0.006</td><td>10.02</td><td>0.004</td><td>1687.19253</td><td>0.00166</td><td>8.5112</td><td>0.00138</td><td>3.486</td><td>0.185</td><td>4172.76</td><td>1626.12</td><td>[14]</td><td>Could be on neighbor</td><td>2019-09-03 15:31:12+00</td><td>--</td></tr>\n",
       "<tr><td>qlp-s29-tois</td><td>tic8</td><td>267093376</td><td>2235.01</td><td>1</td><td>PC</td><td>APC</td><td>41.0917378</td><td>-74.7897723</td><td>10.899</td><td>0.006</td><td>11.48</td><td>0.034</td><td>1326.09868</td><td>0.00204</td><td>17.14012</td><td>6e-05</td><td>1.176</td><td>0.211</td><td>2180.0</td><td>4.93525</td><td>[1, 2, 13, 27, 28, 29]</td><td>--</td><td>2020-09-18 21:10:23+00</td><td>--</td></tr>\n",
       "<tr><td>spoc-s16-b02</td><td>tic8</td><td>125442121</td><td>1414.01</td><td>1</td><td>PC</td><td>APC</td><td>351.579703473977</td><td>38.5529750885972</td><td>11.029</td><td>0.0086</td><td>11.284</td><td>0.014</td><td>1739.33230231258</td><td>0.00073665497</td><td>3.01962965539225</td><td>0.00017662547</td><td>3.60455008479068</td><td>0.04075758</td><td>13178.0861578176</td><td>414.5518</td><td>[16]</td><td>Possible EB and very active star</td><td>2019-11-06 20:55:18+00</td><td>--</td></tr>\n",
       "<tr><td>qlp-s17-faintsearch</td><td>tic8</td><td>315907220</td><td>3606.01</td><td>1</td><td>PC</td><td>PC</td><td>321.2450925</td><td>57.6666339</td><td>12.686</td><td>0.006</td><td>--</td><td>--</td><td>1777.4271301</td><td>0.0029599</td><td>9.3123063</td><td>0.0009019</td><td>4.42</td><td>0.663</td><td>13280.0</td><td>17.7748</td><td>[15, 16, 17]</td><td>found in faint-star QLP search</td><td>2021-06-23 15:16:40+00</td><td>--</td></tr>\n",
       "<tr><td>spoc-s39-b02</td><td>tic8.2</td><td>22186226</td><td>4385.01</td><td>1</td><td>PC</td><td>PC</td><td>268.198069496081</td><td>-45.0827787305412</td><td>10.6163</td><td>0.0062</td><td>--</td><td>--</td><td>2369.10113103483</td><td>0.0034185757</td><td>9.21698681818801</td><td>0.0033596181</td><td>7.48217140924505</td><td>0.3069035</td><td>2337.56911578056</td><td>145.62654</td><td>[39]</td><td>evolved star</td><td>2021-08-13 00:24:45+00</td><td>--</td></tr>\n",
       "<tr><td>spoc-s17-b02</td><td>tic8</td><td>432549364</td><td>1476.01</td><td>1</td><td>KP</td><td>KP</td><td>0.362153885472867</td><td>39.3838283730146</td><td>10.2242</td><td>0.0061</td><td>10.632</td><td>0.007</td><td>1765.5338009993</td><td>0.00029897763</td><td>1.21750886518977</td><td>2.7541135e-05</td><td>2.73129892349872</td><td>0.028347816</td><td>6587.47593356041</td><td>74.7258</td><td>[17]</td><td>KELT 1b</td><td>2019-12-05 16:42:06+00</td><td>--</td></tr>\n",
       "<tr><td>qlp-s14-ffi</td><td>--</td><td>48188920</td><td>1159.01</td><td>1</td><td>PC</td><td>FP</td><td>282.4207835</td><td>48.0989455</td><td>9.594</td><td>0.008</td><td>10.074</td><td>0.004</td><td>1683.94707</td><td>0.00363</td><td>0.73774</td><td>0.0002</td><td>0.636</td><td>0.331</td><td>524.852</td><td>91.6082</td><td>[14]</td><td>--</td><td>2019-08-27 16:09:26+00</td><td>--</td></tr>\n",
       "</table>"
      ],
      "text/plain": [
       "<Table length=5808>\n",
       "Parameter Source Pipeline Stellar Catalog ...        Alerted         Edited\n",
       "          str31                 str8      ...         str22          str22 \n",
       "------------------------- --------------- ... ---------------------- ------\n",
       "      spoc-s01-s39-b0A-CP              -- ... 2019-08-26 19:21:33+00     --\n",
       "             qlp-s40-tois            tic8 ... 2020-08-07 21:59:54+00     --\n",
       "      qlp-s10-faintsearch            tic8 ... 2021-06-04 01:36:37+00     --\n",
       "              qlp-s21-ffi        gaia-dr2 ... 2020-03-12 14:22:11+00     --\n",
       "          qlp-tois-update        gaia-dr2 ... 2019-04-01 16:51:58+00     --\n",
       "             spoc-s27-b02          tic8.1 ... 2020-09-18 16:26:02+00     --\n",
       "             qlp-s46-tois            tic8 ... 2021-06-04 01:36:36+00     --\n",
       "         spoc-s01-s36-b0A              -- ... 2019-08-26 19:21:32+00     --\n",
       "                 spoc-s02              -- ... 2018-11-16 21:15:42+00     --\n",
       "              qlp-s39-ffi            tic8 ... 2021-08-27 02:40:31+00     --\n",
       "                      ...             ... ...                    ...    ...\n",
       "      spoc-s01-s36-b0A-PC              -- ... 2020-09-18 19:18:09+00     --\n",
       "             spoc-s36-b0A              -- ... 2019-05-07 15:39:33+00     --\n",
       "              qlp-s16-ffi        gaia-dr2 ... 2019-11-12 16:59:56+00     --\n",
       "              qlp-s14-ffi              -- ... 2019-09-03 15:31:12+00     --\n",
       "             qlp-s29-tois            tic8 ... 2020-09-18 21:10:23+00     --\n",
       "             spoc-s16-b02            tic8 ... 2019-11-06 20:55:18+00     --\n",
       "      qlp-s17-faintsearch            tic8 ... 2021-06-23 15:16:40+00     --\n",
       "             spoc-s39-b02          tic8.2 ... 2021-08-13 00:24:45+00     --\n",
       "             spoc-s17-b02            tic8 ... 2019-12-05 16:42:06+00     --\n",
       "              qlp-s14-ffi              -- ... 2019-08-27 16:09:26+00     --"
      ]
     },
     "execution_count": 8,
     "metadata": {},
     "output_type": "execute_result"
    }
   ],
   "source": [
    "mit_tab = Table.read('TOI_Lists/MIT/csv-file-toi-catalog_20220805.csv',comment='#')\n",
    "mit_tab"
   ]
  },
  {
   "cell_type": "markdown",
   "metadata": {},
   "source": [
    "## Create list of TIO/CTIO targets ExoFOP\n",
    "- Sectors 1 through 54 are currently available here: https://exofop.ipac.caltech.edu/tess/index.php\n",
    "- Last updated 08/05/2022\n",
    "\n",
    "```\n",
    "awk -F ',' '{print($1\",\"$2\",\"$3\",\"$4\",\"$5\",\"$6\",\"$7\",\"$8\",\"$9\",\"$10\",\"$11\",\"$12\",\"$13\",\"$14)}' exofop_ctoilists.csv > ctoi_small.csv\n",
    "```"
   ]
  },
  {
   "cell_type": "code",
   "execution_count": 9,
   "metadata": {},
   "outputs": [
    {
     "data": {
      "text/html": [
       "<i>Table length=5808</i>\n",
       "<table id=\"table140047340070864\" class=\"table-striped table-bordered table-condensed\">\n",
       "<thead><tr><th>TIC ID</th><th>TOI</th><th>Previous CTOI</th><th>Master</th><th>SG1A</th><th>SG1B</th><th>SG2</th><th>SG3</th><th>SG4</th><th>SG5</th><th>ACWG ESM</th><th>ACWG TSM</th><th>Time Series Observations</th><th>Spectroscopy Observations</th><th>Imaging Observations</th><th>TESS Disposition</th><th>TFOPWG Disposition</th><th>TESS Mag</th><th>TESS Mag err</th><th>Planet Name</th><th>Pipeline Signal ID</th><th>Source</th><th>Detection</th><th>RA</th><th>Dec</th><th>PM RA (mas/yr)</th><th>PM RA err (mas/yr)</th><th>PM Dec (mas/yr)</th><th>PM Dec err (mas/yr)</th><th>Epoch (BJD)</th><th>Epoch (BJD) err</th><th>Period (days)</th><th>Period (days) err</th><th>Duration (hours)</th><th>Duration (hours) err</th><th>Depth (mmag)</th><th>Depth (mmag) err</th><th>Depth (ppm)</th><th>Depth (ppm) err</th><th>Planet Radius (R_Earth)</th><th>Planet Radius (R_Earth) err</th><th>Planet Insolation (Earth Flux)</th><th>Planet Equil Temp (K)</th><th>Planet SNR</th><th>Stellar Distance (pc)</th><th>Stellar Distance (pc) err</th><th>Stellar Eff Temp (K)</th><th>Stellar Eff Temp (K) err</th><th>Stellar log(g) (cm/s^2)</th><th>Stellar log(g) (cm/s^2) err</th><th>Stellar Radius (R_Sun)</th><th>Stellar Radius (R_Sun) err</th><th>Stellar Metallicity</th><th>Stellar Metallicity err</th><th>Stellar Mass (M_Sun)</th><th>Stellar Mass (M_Sun) err</th><th>Sectors</th><th>Date TOI Alerted (UTC)</th><th>Date TOI Updated (UTC)</th><th>Date Modified</th><th>Comments</th></tr></thead>\n",
       "<thead><tr><th>int64</th><th>float64</th><th>str16</th><th>int64</th><th>int64</th><th>int64</th><th>int64</th><th>int64</th><th>int64</th><th>int64</th><th>float64</th><th>float64</th><th>int64</th><th>int64</th><th>int64</th><th>str2</th><th>str3</th><th>float64</th><th>float64</th><th>int64</th><th>int64</th><th>str31</th><th>str8</th><th>str11</th><th>str12</th><th>float64</th><th>float64</th><th>float64</th><th>float64</th><th>float64</th><th>float64</th><th>float64</th><th>float64</th><th>float64</th><th>float64</th><th>float64</th><th>float64</th><th>float64</th><th>float64</th><th>float64</th><th>float64</th><th>float64</th><th>float64</th><th>float64</th><th>float64</th><th>float64</th><th>float64</th><th>float64</th><th>float64</th><th>float64</th><th>float64</th><th>float64</th><th>float64</th><th>float64</th><th>float64</th><th>float64</th><th>str68</th><th>str10</th><th>str10</th><th>str19</th><th>str352</th></tr></thead>\n",
       "<tr><td>231663901</td><td>101.01</td><td>--</td><td>5</td><td>5</td><td>5</td><td>5</td><td>5</td><td>5</td><td>5</td><td>90.1</td><td>211.2</td><td>0</td><td>1</td><td>3</td><td>KP</td><td>KP</td><td>12.4069</td><td>0.006</td><td>--</td><td>1</td><td>spoc</td><td>UNKNOWN</td><td>21:14:56.88</td><td>-55:52:18.71</td><td>12.641</td><td>0.044</td><td>-16.011</td><td>0.041</td><td>2459036.904104</td><td>0.0003926639</td><td>1.43036914033977</td><td>9.228199e-07</td><td>1.64387283171534</td><td>0.018756187</td><td>20.994855</td><td>0.2144</td><td>19151.2162143199</td><td>197.45049</td><td>13.2504933448192</td><td>0.66068995</td><td>1281.24179196536</td><td>1525.90509667994</td><td>109.60649</td><td>375.31</td><td>4.411</td><td>5600.0</td><td>--</td><td>4.48851</td><td>--</td><td>0.890774011611938</td><td>0.0438467</td><td>--</td><td>--</td><td>1.05</td><td>0.129454</td><td>1,27</td><td>2018-09-05</td><td>2021-10-07</td><td>2021-10-29 00:00:00</td><td>WASP-46 b</td></tr>\n",
       "<tr><td>149603524</td><td>102.01</td><td>--</td><td>5</td><td>5</td><td>5</td><td>5</td><td>5</td><td>5</td><td>5</td><td>147.3</td><td>170.1</td><td>1</td><td>2</td><td>1</td><td>KP</td><td>KP</td><td>9.7109</td><td>0.006</td><td>--</td><td>1</td><td>qlp</td><td>UNKNOWN</td><td>05:48:33.56</td><td>-63:59:17.98</td><td>-15.641</td><td>0.037</td><td>26.046</td><td>0.037</td><td>2459384.943122</td><td>0.0013867</td><td>4.4119288</td><td>1.58e-05</td><td>3.894</td><td>0.08</td><td>16.177972</td><td>0.00117</td><td>14790.0</td><td>1.07767</td><td>15.2023</td><td>0.692849</td><td>999.833</td><td>1566.0</td><td>863.0</td><td>175.631</td><td>0.588</td><td>6280.0</td><td>--</td><td>4.32092</td><td>--</td><td>1.21</td><td>0.05</td><td>0.24</td><td>0.05</td><td>1.28</td><td>0.190812</td><td>1,2,3,4,6,7,8,9,10,11,12,13,27,28,29,30,31,32,33,34,36,37,38,39</td><td>2019-05-07</td><td>2021-08-24</td><td>2021-10-29 00:00:00</td><td>WASP 62 b</td></tr>\n",
       "<tr><td>336732616</td><td>103.01</td><td>--</td><td>5</td><td>5</td><td>5</td><td>5</td><td>5</td><td>5</td><td>5</td><td>54.7</td><td>136.1</td><td>0</td><td>0</td><td>7</td><td>KP</td><td>KP</td><td>11.5232</td><td>0.008</td><td>--</td><td>1</td><td>spoc</td><td>UNKNOWN</td><td>20:49:49.8</td><td>-24:25:43.3</td><td>10.426</td><td>0.07</td><td>15.62</td><td>0.051</td><td>2458327.25256</td><td>0.000586</td><td>3.547854</td><td>0.000149</td><td>3.494333</td><td>0.049205</td><td>11.377523</td><td>0.133944</td><td>10424.3718</td><td>123.359314</td><td>14.581841</td><td>0.196435</td><td>1212.004376</td><td>1504.858953</td><td>59.5</td><td>411.211</td><td>7.752</td><td>6351.0</td><td>--</td><td>4.22896</td><td>--</td><td>1.4</td><td>--</td><td>--</td><td>--</td><td>1.27</td><td>0.196969</td><td>1</td><td>2018-09-05</td><td>2020-10-27</td><td>2021-10-29 00:00:00</td><td>HATS-3 b</td></tr>\n",
       "<tr><td>231670397</td><td>104.01</td><td>--</td><td>5</td><td>5</td><td>5</td><td>5</td><td>5</td><td>5</td><td>5</td><td>59.0</td><td>122.6</td><td>1</td><td>0</td><td>3</td><td>KP</td><td>KP</td><td>9.8638</td><td>0.006</td><td>--</td><td>1</td><td>spoc</td><td>UNKNOWN</td><td>21:19:47.93</td><td>-58:08:56.16</td><td>10.552</td><td>0.045</td><td>-10.658</td><td>0.043</td><td>2459038.863566</td><td>0.0009549599</td><td>4.08729939632711</td><td>4.1056146e-06</td><td>5.5861130474761</td><td>0.050875474</td><td>3.885379</td><td>0.03875</td><td>3572.17124985973</td><td>35.689426</td><td>13.6237731764604</td><td>0.65182334</td><td>2242.36054008399</td><td>1755.07673832663</td><td>48.678577</td><td>316.678</td><td>2.9655</td><td>6036.0</td><td>--</td><td>3.93359</td><td>--</td><td>2.21866989135742</td><td>0.102573</td><td>--</td><td>--</td><td>1.16</td><td>0.166129</td><td>1,27</td><td>2018-09-05</td><td>2021-12-01</td><td>2021-12-07 12:08:34</td><td>WASP-73 b</td></tr>\n",
       "<tr><td>144065872</td><td>105.01</td><td>--</td><td>5</td><td>5</td><td>5</td><td>5</td><td>5</td><td>5</td><td>5</td><td>213.3</td><td>430.7</td><td>1</td><td>3</td><td>2</td><td>KP</td><td>KP</td><td>9.4995</td><td>0.006</td><td>--</td><td>1</td><td>spoc-s01-s36-b0A-CPKP</td><td>UNKNOWN</td><td>22:29:49.88</td><td>-48:00:11.16</td><td>91.976</td><td>0.052</td><td>-6.861</td><td>0.069</td><td>2459084.58501</td><td>0.00011</td><td>2.18466694872065</td><td>4.851188e-07</td><td>2.86528001574358</td><td>0.009074817</td><td>12.786825</td><td>0.037924</td><td>11708.0228548887</td><td>34.928566</td><td>13.702852670325</td><td>0.66197515</td><td>1362.1381428406</td><td>1549.44098010565</td><td>349.33414</td><td>137.544</td><td>0.7905</td><td>5630.0</td><td>--</td><td>4.37759</td><td>--</td><td>1.23824000358582</td><td>0.0596985</td><td>--</td><td>--</td><td>1.03</td><td>0.127209</td><td>1,28</td><td>2018-09-05</td><td>2021-12-08</td><td>2021-12-21 12:05:17</td><td>WASP-95; epoch kept from qlp-s28-tois</td></tr>\n",
       "<tr><td>38846515</td><td>106.01</td><td>--</td><td>5</td><td>5</td><td>5</td><td>5</td><td>5</td><td>5</td><td>5</td><td>94.5</td><td>107.7</td><td>1</td><td>0</td><td>3</td><td>KP</td><td>KP</td><td>10.3157</td><td>0.006</td><td>--</td><td>1</td><td>qlp</td><td>UNKNOWN</td><td>04:35:50.36</td><td>-64:01:37.34</td><td>10.845</td><td>0.035</td><td>-0.499</td><td>0.052</td><td>2459386.715318</td><td>0.0004872</td><td>2.8493824</td><td>4.2e-06</td><td>3.806</td><td>0.532</td><td>8.425347</td><td>0.000295</td><td>7730.0</td><td>0.272068</td><td>16.4149</td><td>0.742397</td><td>3854.88</td><td>2195.0</td><td>657.0</td><td>364.411</td><td>2.729</td><td>6900.0</td><td>--</td><td>4.438</td><td>--</td><td>1.77</td><td>0.08</td><td>--</td><td>--</td><td>1.44</td><td>0.243534</td><td>1,2,3,4,5,6,7,8,9,10,11,12,13,27,28,29,30,31,32,33,34,35,36,37,38,39</td><td>2019-05-07</td><td>2021-08-26</td><td>2021-10-29 00:00:00</td><td>WASP-100b</td></tr>\n",
       "<tr><td>92352620</td><td>107.01</td><td>--</td><td>5</td><td>5</td><td>5</td><td>5</td><td>5</td><td>5</td><td>5</td><td>190.5</td><td>236.6</td><td>0</td><td>1</td><td>3</td><td>KP</td><td>KP</td><td>9.6433</td><td>0.006</td><td>--</td><td>1</td><td>spoc</td><td>UNKNOWN</td><td>20:55:07.98</td><td>-34:08:08.7</td><td>26.376</td><td>0.078</td><td>-44.947</td><td>0.059</td><td>2459039.335846</td><td>0.00038635198</td><td>3.95020094278708</td><td>1.600228e-06</td><td>4.56436423242551</td><td>0.018132707</td><td>14.00227</td><td>0.064564</td><td>12813.762930751</td><td>59.46348</td><td>19.7058959371285</td><td>0.8632607</td><td>1364.08984021221</td><td>1549.99569924754</td><td>201.10165</td><td>211.211</td><td>2.4835</td><td>6153.0</td><td>--</td><td>4.18077</td><td>--</td><td>1.71036005020142</td><td>0.074613</td><td>0.22</td><td>0.1</td><td>1.14</td><td>0.150731</td><td>1,27</td><td>2018-09-05</td><td>2021-10-07</td><td>2021-10-29 00:00:00</td><td>WASP-94 A b</td></tr>\n",
       "<tr><td>289793076</td><td>108.01</td><td>--</td><td>5</td><td>5</td><td>5</td><td>5</td><td>5</td><td>5</td><td>5</td><td>46.3</td><td>115.6</td><td>0</td><td>0</td><td>4</td><td>KP</td><td>KP</td><td>13.163</td><td>0.01</td><td>--</td><td>1</td><td>spoc</td><td>SPOC</td><td>21:07:50.76</td><td>-26:05:48.19</td><td>3.479</td><td>0.063</td><td>-10.313</td><td>0.038</td><td>2458328.08383</td><td>0.0004391314</td><td>3.0440540665342</td><td>4.25771e-06</td><td>2.59845748018295</td><td>0.061165422</td><td>24.414911</td><td>0.532696</td><td>22236.0165376302</td><td>490.51093</td><td>12.1086799407213</td><td>0.2679916</td><td>315.987132647374</td><td>1075.31845422327</td><td>34.314007</td><td>421.855</td><td>8.339</td><td>5523.0</td><td>--</td><td>4.52192</td><td>--</td><td>0.809867978096008</td><td>--</td><td>--</td><td>--</td><td>0.95</td><td>--</td><td>1,28</td><td>2018-09-05</td><td>2021-10-20</td><td>2021-10-29 00:00:00</td><td>HATS-13 b</td></tr>\n",
       "<tr><td>29344935</td><td>109.01</td><td>--</td><td>5</td><td>5</td><td>5</td><td>5</td><td>5</td><td>5</td><td>5</td><td>38.3</td><td>84.7</td><td>0</td><td>0</td><td>5</td><td>KP</td><td>KP</td><td>13.2366</td><td>0.007</td><td>--</td><td>1</td><td>spoc</td><td>UNKNOWN</td><td>20:52:51.71</td><td>-25:41:14.55</td><td>1.053</td><td>0.052</td><td>-9.881</td><td>0.029</td><td>2458326.127889</td><td>0.00053233746</td><td>2.766747877062</td><td>4.5420184e-06</td><td>2.59980826976837</td><td>0.082150556</td><td>16.248311</td><td>0.353657</td><td>14853.8243821185</td><td>325.67685</td><td>12.0222506977152</td><td>0.39210835</td><td>505.886965355293</td><td>1209.57589092691</td><td>29.239107</td><td>513.011</td><td>9.1275</td><td>5346.0</td><td>--</td><td>4.48823</td><td>--</td><td>0.98486602306366</td><td>--</td><td>--</td><td>--</td><td>0.93</td><td>--</td><td>1,28</td><td>2018-09-05</td><td>2021-12-02</td><td>2021-12-07 12:08:34</td><td>HATS-14 b</td></tr>\n",
       "<tr><td>281459670</td><td>110.01</td><td>--</td><td>5</td><td>5</td><td>5</td><td>5</td><td>5</td><td>5</td><td>5</td><td>77.2</td><td>71.1</td><td>0</td><td>0</td><td>1</td><td>KP</td><td>KP</td><td>11.6714</td><td>0.006</td><td>--</td><td>1</td><td>spoc</td><td>UNKNOWN</td><td>00:22:28.45</td><td>-59:56:33.32</td><td>-22.309</td><td>0.036</td><td>-4.893</td><td>0.034</td><td>2458328.040318</td><td>0.000219277</td><td>3.17434739143305</td><td>2.150323e-06</td><td>2.65151241654757</td><td>0.031354535</td><td>16.579229</td><td>0.180485</td><td>15154.0381610053</td><td>166.21867</td><td>14.4066832991886</td><td>0.80587804</td><td>718.910615137806</td><td>1320.65224399378</td><td>74.55683</td><td>342.14</td><td>2.912</td><td>5943.0</td><td>--</td><td>4.42524</td><td>--</td><td>1.1570600271225</td><td>0.0633669</td><td>-0.1</td><td>0.1</td><td>1.03</td><td>0.12909</td><td>1,2,28,29</td><td>2018-11-14</td><td>2021-12-03</td><td>2021-12-07 12:08:34</td><td>HATS-30 b</td></tr>\n",
       "<tr><td>...</td><td>...</td><td>...</td><td>...</td><td>...</td><td>...</td><td>...</td><td>...</td><td>...</td><td>...</td><td>...</td><td>...</td><td>...</td><td>...</td><td>...</td><td>...</td><td>...</td><td>...</td><td>...</td><td>...</td><td>...</td><td>...</td><td>...</td><td>...</td><td>...</td><td>...</td><td>...</td><td>...</td><td>...</td><td>...</td><td>...</td><td>...</td><td>...</td><td>...</td><td>...</td><td>...</td><td>...</td><td>...</td><td>...</td><td>...</td><td>...</td><td>...</td><td>...</td><td>...</td><td>...</td><td>...</td><td>...</td><td>...</td><td>...</td><td>...</td><td>...</td><td>...</td><td>...</td><td>...</td><td>...</td><td>...</td><td>...</td><td>...</td><td>...</td><td>...</td><td>...</td></tr>\n",
       "<tr><td>103865797</td><td>5695.01</td><td>--</td><td>3</td><td>4</td><td>3</td><td>3</td><td>1</td><td>4</td><td>4</td><td>--</td><td>--</td><td>1</td><td>0</td><td>0</td><td>PC</td><td>PC</td><td>14.2399</td><td>0.008</td><td>--</td><td>1</td><td>qlp-s51-faintsearch</td><td>QLP</td><td>16:08:37.07</td><td>19:15:11.69</td><td>6.252</td><td>0.089</td><td>-29.901</td><td>0.084</td><td>2459740.631465</td><td>0.0017479</td><td>2.2232698</td><td>0.000159</td><td>0.648</td><td>0.236</td><td>34.97517</td><td>1.395851</td><td>31700.0</td><td>1284.8</td><td>9.36074</td><td>1.4427</td><td>5.11732</td><td>419.0</td><td>15.0</td><td>100.029</td><td>0.76205</td><td>3157.0</td><td>157.0</td><td>4.87</td><td>--</td><td>0.36</td><td>0.01</td><td>--</td><td>--</td><td>0.344323</td><td>0.0203532</td><td>51</td><td>2022-07-14</td><td>2022-07-14</td><td>2022-07-15 12:02:35</td><td>found in faint-star QLP search</td></tr>\n",
       "<tr><td>393546540</td><td>5696.01</td><td>TIC 393546540.01</td><td>1</td><td>4</td><td>1</td><td>1</td><td>1</td><td>4</td><td>4</td><td>--</td><td>--</td><td>0</td><td>1</td><td>2</td><td>PC</td><td>PC</td><td>9.1352</td><td>0.006</td><td>--</td><td>1</td><td>qlp-s46-393546540</td><td>QLP</td><td>10:44:37.66</td><td>06:20:00.51</td><td>58.782</td><td>0.086</td><td>-22.057</td><td>0.071</td><td>2457925.865418</td><td>1.03e-05</td><td>1637.265104</td><td>1e-06</td><td>5.981</td><td>--</td><td>1.43738</td><td>0.000684</td><td>1323.0</td><td>0.629621</td><td>3.16626</td><td>0.182537</td><td>0.00684395</td><td>80.0</td><td>45.0</td><td>66.4522</td><td>0.2447</td><td>5271.0</td><td>115.3</td><td>4.56</td><td>0.08</td><td>0.83</td><td>0.04</td><td>--</td><td>--</td><td>0.9</td><td>0.108368</td><td>45,46</td><td>2022-07-28</td><td>2022-07-28</td><td>2022-07-31 12:02:21</td><td>two transits; one in K2 and one in TESS</td></tr>\n",
       "<tr><td>393546540</td><td>5696.02</td><td>TIC 393546540.02</td><td>1</td><td>4</td><td>1</td><td>1</td><td>1</td><td>4</td><td>4</td><td>--</td><td>--</td><td>0</td><td>1</td><td>2</td><td>PC</td><td>PC</td><td>9.1352</td><td>0.006</td><td>--</td><td>2</td><td>qlp-s46-393546540</td><td>QLP</td><td>10:44:37.66</td><td>06:20:00.51</td><td>58.782</td><td>0.086</td><td>-22.057</td><td>0.071</td><td>2459537.503376</td><td>0.0028273</td><td>32.4296139</td><td>5.72e-05</td><td>4.452</td><td>0.133</td><td>0.934135</td><td>0.000151</td><td>860.0</td><td>0.13875</td><td>2.64575</td><td>0.144115</td><td>10.0631</td><td>496.0</td><td>28.0</td><td>66.4522</td><td>0.2447</td><td>5271.0</td><td>115.3</td><td>4.56</td><td>0.08</td><td>0.83</td><td>0.04</td><td>--</td><td>--</td><td>0.9</td><td>0.108368</td><td>45,46</td><td>2022-07-28</td><td>2022-07-28</td><td>2022-07-31 12:02:20</td><td>K2 candidate; possible multi</td></tr>\n",
       "<tr><td>416739490</td><td>5697.01</td><td>--</td><td>2</td><td>4</td><td>2</td><td>2</td><td>1</td><td>4</td><td>4</td><td>--</td><td>--</td><td>0</td><td>0</td><td>0</td><td>PC</td><td>PC</td><td>10.8327</td><td>0.006</td><td>--</td><td>1</td><td>spoc-s42-s46-b02</td><td>SPOC</td><td>03:35:37.72</td><td>10:50:34.49</td><td>-4.994</td><td>0.081</td><td>-7.197</td><td>0.056</td><td>2459452.934563</td><td>0.003898511</td><td>6.21829262902239</td><td>0.00057286053</td><td>2.22606375623301</td><td>0.7706159</td><td>0.921026</td><td>0.134434</td><td>847.936378674822</td><td>123.81072</td><td>2.29279099137481</td><td>2.9151103</td><td>120.919814994391</td><td>845.75411219713</td><td>7.550826</td><td>150.233</td><td>1.061</td><td>5554.41</td><td>111.856</td><td>4.64142</td><td>0.0747831</td><td>0.782913029193878</td><td>0.0387814</td><td>-0.109</td><td>0.019</td><td>0.979</td><td>0.121556</td><td>42,43,44</td><td>2022-07-28</td><td>2022-07-28</td><td>2022-07-31 12:02:22</td><td>potential L1 planet; low SNR/MES</td></tr>\n",
       "<tr><td>264052454</td><td>5698.01</td><td>TIC 264052454.01</td><td>3</td><td>4</td><td>3</td><td>3</td><td>1</td><td>3</td><td>4</td><td>--</td><td>--</td><td>0</td><td>0</td><td>0</td><td>PC</td><td>PC</td><td>11.3529</td><td>0.006</td><td>--</td><td>1</td><td>spoc-s52-b02</td><td>SPOC</td><td>20:30:13.92</td><td>79:40:02.9</td><td>20.622</td><td>0.033</td><td>25.667</td><td>0.038</td><td>2459719.634935</td><td>0.0012759726</td><td>2.34701143579342</td><td>0.0002300308</td><td>1.27313201408136</td><td>0.10318518</td><td>5.251985</td><td>0.359446</td><td>4825.57625664454</td><td>331.0069</td><td>12.3393272519405</td><td>13.231798</td><td>1149.11671884029</td><td>1484.94642593395</td><td>17.464367</td><td>301.644</td><td>1.71</td><td>5901.0</td><td>149.312</td><td>4.34605</td><td>0.078021</td><td>1.15108001232147</td><td>0.0569975</td><td>--</td><td>--</td><td>1.072</td><td>0.136183</td><td>52</td><td>2022-07-28</td><td>2022-07-28</td><td>2022-07-31 12:02:20</td><td>potential secondary; v-shaped; Rp may be too large due to large uncertainty</td></tr>\n",
       "<tr><td>224328450</td><td>5699.01</td><td>--</td><td>3</td><td>4</td><td>3</td><td>3</td><td>1</td><td>4</td><td>4</td><td>--</td><td>--</td><td>0</td><td>0</td><td>0</td><td>PC</td><td>PC</td><td>10.4488</td><td>0.006</td><td>--</td><td>1</td><td>qlp-s52-ffi</td><td>QLP</td><td>16:44:54.28</td><td>31:12:38.77</td><td>-8.687</td><td>0.036</td><td>-35.198</td><td>0.05</td><td>2459704.152351</td><td>0.0021163</td><td>22.0183297</td><td>0.0001135</td><td>3.628</td><td>0.788</td><td>3.588854</td><td>0.005884</td><td>3300.0</td><td>5.41914</td><td>10.8238</td><td>0.749249</td><td>41.8582</td><td>708.0</td><td>25.0</td><td>304.745</td><td>2.052</td><td>5901.0</td><td>143.5</td><td>3.99</td><td>0.08</td><td>1.74</td><td>0.1</td><td>0.019</td><td>0.009</td><td>1.072</td><td>0.131196</td><td>25,51,52</td><td>2022-07-28</td><td>2022-07-28</td><td>2022-07-31 12:02:20</td><td>--</td></tr>\n",
       "<tr><td>76193403</td><td>5700.01</td><td>--</td><td>2</td><td>4</td><td>2</td><td>2</td><td>1</td><td>4</td><td>4</td><td>--</td><td>--</td><td>0</td><td>0</td><td>0</td><td>PC</td><td>PC</td><td>10.4557</td><td>0.006</td><td>--</td><td>1</td><td>qlp-s52-ffi</td><td>QLP</td><td>18:14:04.73</td><td>39:20:00.9</td><td>-3.53</td><td>0.038</td><td>8.589</td><td>0.046</td><td>2459742.169976</td><td>0.003982</td><td>1.7812778</td><td>2.3e-05</td><td>2.261</td><td>0.463</td><td>0.586456</td><td>0.002232</td><td>540.0</td><td>2.05556</td><td>1.85549</td><td>0.163717</td><td>1063.79</td><td>1591.0</td><td>9.0</td><td>121.957</td><td>0.3175</td><td>5329.0</td><td>121.7</td><td>4.58</td><td>0.08</td><td>0.82</td><td>0.04</td><td>--</td><td>--</td><td>0.919</td><td>0.115673</td><td>26,40,52</td><td>2022-07-28</td><td>2022-07-28</td><td>2022-07-31 12:02:20</td><td>low SNR; potential L1 candidate</td></tr>\n",
       "<tr><td>43276438</td><td>5701.01</td><td>--</td><td>2</td><td>4</td><td>2</td><td>2</td><td>1</td><td>4</td><td>4</td><td>--</td><td>--</td><td>0</td><td>0</td><td>0</td><td>PC</td><td>PC</td><td>10.36</td><td>0.006</td><td>--</td><td>1</td><td>qlp-s52-ffi</td><td>QLP</td><td>16:50:45.86</td><td>40:19:02.79</td><td>-17.098</td><td>0.038</td><td>9.365</td><td>0.049</td><td>2459742.996854</td><td>0.0093558</td><td>15.0766418</td><td>0.0002415</td><td>3.959</td><td>0.633</td><td>0.521278</td><td>0.002474</td><td>480.0</td><td>2.27854</td><td>2.44389</td><td>0.213093</td><td>76.7223</td><td>824.0</td><td>9.0</td><td>195.785</td><td>1.0395</td><td>6149.4</td><td>135.4</td><td>4.45</td><td>0.09</td><td>1.06</td><td>0.05</td><td>0.013</td><td>0.015</td><td>1.168</td><td>0.160042</td><td>24,25,51,52</td><td>2022-07-28</td><td>2022-07-28</td><td>2022-07-31 12:02:21</td><td>potential L1 candidate</td></tr>\n",
       "<tr><td>141985686</td><td>5702.01</td><td>--</td><td>3</td><td>4</td><td>3</td><td>3</td><td>1</td><td>4</td><td>4</td><td>--</td><td>--</td><td>0</td><td>0</td><td>0</td><td>PC</td><td>PC</td><td>9.83993</td><td>0.006</td><td>--</td><td>1</td><td>qlp-s52-ffi</td><td>QLP</td><td>17:01:49.65</td><td>14:42:26.88</td><td>-17.019</td><td>0.041</td><td>-47.146</td><td>0.046</td><td>2459738.417473</td><td>0.0040117</td><td>3.1291319</td><td>3.82e-05</td><td>1.993</td><td>0.515</td><td>0.738552</td><td>0.004672</td><td>680.0</td><td>4.30352</td><td>4.10795</td><td>0.403543</td><td>516.613</td><td>1328.0</td><td>9.0</td><td>222.812</td><td>1.3525</td><td>6236.0</td><td>146.4</td><td>4.13</td><td>0.08</td><td>1.57</td><td>0.07</td><td>--</td><td>--</td><td>1.207</td><td>0.182031</td><td>25,52</td><td>2022-07-28</td><td>2022-07-28</td><td>2022-07-31 12:02:22</td><td>low SNR; ambiguous difference image but no nearby ephemeris matches</td></tr>\n",
       "<tr><td>10792081</td><td>5703.01</td><td>--</td><td>3</td><td>4</td><td>3</td><td>3</td><td>1</td><td>4</td><td>4</td><td>--</td><td>--</td><td>0</td><td>0</td><td>0</td><td>PC</td><td>PC</td><td>10.0223</td><td>0.006</td><td>--</td><td>1</td><td>qlp-s52-ffi</td><td>QLP</td><td>01:56:47.62</td><td>65:46:12.85</td><td>62.845</td><td>0.038</td><td>-71.31</td><td>0.046</td><td>2459735.350043</td><td>0.0083179</td><td>10.1692828</td><td>0.0001414</td><td>5.653</td><td>0.612</td><td>0.821127</td><td>0.502445</td><td>756.0</td><td>462.662</td><td>6.53126</td><td>2.42166</td><td>2635.32</td><td>1996.0</td><td>9.0</td><td>146.959</td><td>0.73</td><td>5856.0</td><td>140.9</td><td>4.45</td><td>0.08</td><td>1.01</td><td>0.05</td><td>--</td><td>--</td><td>1.058</td><td>0.136111</td><td>18,24,25,52</td><td>2022-07-28</td><td>2022-07-28</td><td>2022-07-31 12:02:21</td><td>MCMC underestimating planet radius</td></tr>\n",
       "</table>"
      ],
      "text/plain": [
       "<Table length=5808>\n",
       "  TIC ID  ...\n",
       "  int64   ...\n",
       "--------- ...\n",
       "231663901 ...\n",
       "149603524 ...\n",
       "336732616 ...\n",
       "231670397 ...\n",
       "144065872 ...\n",
       " 38846515 ...\n",
       " 92352620 ...\n",
       "289793076 ...\n",
       " 29344935 ...\n",
       "281459670 ...\n",
       "      ... ...\n",
       "103865797 ...\n",
       "393546540 ...\n",
       "393546540 ...\n",
       "416739490 ...\n",
       "264052454 ...\n",
       "224328450 ...\n",
       " 76193403 ...\n",
       " 43276438 ...\n",
       "141985686 ...\n",
       " 10792081 ..."
      ]
     },
     "execution_count": 9,
     "metadata": {},
     "output_type": "execute_result"
    }
   ],
   "source": [
    "exo_tio_tab = Table.read('TOI_Lists/ExoFOP/exofop_toilists_20220805.csv')\n",
    "exo_tio_tab"
   ]
  },
  {
   "cell_type": "code",
   "execution_count": 10,
   "metadata": {},
   "outputs": [
    {
     "data": {
      "text/html": [
       "<i>Table length=927</i>\n",
       "<table id=\"table140047310018448\" class=\"table-striped table-bordered table-condensed\">\n",
       "<thead><tr><th>TIC ID</th><th>CTOI</th><th>Promoted to TOI</th><th>MASTER</th><th>SG1A</th><th>SG1B</th><th>SG2</th><th>SG3</th><th>SG4</th><th>SG5</th><th>User Disposition</th><th>TFOPWG Disposition</th><th>TESS Mag</th><th>TESS Mag err</th></tr></thead>\n",
       "<thead><tr><th>int64</th><th>float64</th><th>float64</th><th>int64</th><th>int64</th><th>int64</th><th>int64</th><th>int64</th><th>int64</th><th>int64</th><th>str2</th><th>str2</th><th>float64</th><th>float64</th></tr></thead>\n",
       "<tr><td>17361</td><td>17361.01</td><td>--</td><td>--</td><td>--</td><td>--</td><td>--</td><td>--</td><td>--</td><td>--</td><td>PC</td><td>--</td><td>11.342</td><td>0.006</td></tr>\n",
       "<tr><td>1042868</td><td>1042868.01</td><td>--</td><td>--</td><td>--</td><td>--</td><td>--</td><td>--</td><td>--</td><td>--</td><td>PC</td><td>--</td><td>5.8706</td><td>0.006</td></tr>\n",
       "<tr><td>1449756</td><td>1449756.01</td><td>--</td><td>--</td><td>--</td><td>--</td><td>--</td><td>--</td><td>--</td><td>--</td><td>PC</td><td>--</td><td>10.8256</td><td>0.006</td></tr>\n",
       "<tr><td>1525480</td><td>1525480.01</td><td>--</td><td>--</td><td>--</td><td>--</td><td>--</td><td>--</td><td>--</td><td>--</td><td>PC</td><td>--</td><td>12.2668</td><td>0.007</td></tr>\n",
       "<tr><td>2760219</td><td>2760219.01</td><td>2382.01</td><td>--</td><td>--</td><td>--</td><td>--</td><td>--</td><td>--</td><td>--</td><td>PC</td><td>--</td><td>11.4408</td><td>0.006</td></tr>\n",
       "<tr><td>7422496</td><td>7422496.01</td><td>--</td><td>--</td><td>--</td><td>--</td><td>--</td><td>--</td><td>--</td><td>--</td><td>PC</td><td>--</td><td>8.7601</td><td>0.006</td></tr>\n",
       "<tr><td>8963901</td><td>8963901.01</td><td>--</td><td>--</td><td>--</td><td>--</td><td>--</td><td>--</td><td>--</td><td>--</td><td>PC</td><td>--</td><td>11.2163</td><td>0.015</td></tr>\n",
       "<tr><td>9376051</td><td>9376051.01</td><td>--</td><td>--</td><td>--</td><td>--</td><td>--</td><td>--</td><td>--</td><td>--</td><td>PC</td><td>--</td><td>9.97062</td><td>0.006</td></tr>\n",
       "<tr><td>10747470</td><td>10747470.01</td><td>--</td><td>--</td><td>--</td><td>--</td><td>--</td><td>--</td><td>--</td><td>--</td><td>PC</td><td>--</td><td>9.72577</td><td>0.006</td></tr>\n",
       "<tr><td>11356662</td><td>11356662.01</td><td>--</td><td>--</td><td>--</td><td>--</td><td>--</td><td>--</td><td>--</td><td>--</td><td>PC</td><td>--</td><td>10.0162</td><td>0.006</td></tr>\n",
       "<tr><td>...</td><td>...</td><td>...</td><td>...</td><td>...</td><td>...</td><td>...</td><td>...</td><td>...</td><td>...</td><td>...</td><td>...</td><td>...</td><td>...</td></tr>\n",
       "<tr><td>467522800</td><td>467522800.01</td><td>--</td><td>--</td><td>--</td><td>--</td><td>--</td><td>--</td><td>--</td><td>--</td><td>PC</td><td>--</td><td>13.9784</td><td>0.007</td></tr>\n",
       "<tr><td>467785319</td><td>467785319.01</td><td>--</td><td>--</td><td>--</td><td>--</td><td>--</td><td>--</td><td>--</td><td>--</td><td>PC</td><td>--</td><td>10.8969</td><td>0.006</td></tr>\n",
       "<tr><td>468981993</td><td>468981993.01</td><td>--</td><td>--</td><td>--</td><td>--</td><td>--</td><td>--</td><td>--</td><td>--</td><td>PC</td><td>--</td><td>10.7003</td><td>0.006</td></tr>\n",
       "<tr><td>738065944</td><td>738065944.01</td><td>--</td><td>--</td><td>--</td><td>--</td><td>--</td><td>--</td><td>--</td><td>--</td><td>PC</td><td>--</td><td>12.3296</td><td>0.006</td></tr>\n",
       "<tr><td>748919024</td><td>748919024.01</td><td>--</td><td>--</td><td>--</td><td>--</td><td>--</td><td>--</td><td>--</td><td>--</td><td>PC</td><td>--</td><td>13.3927</td><td>0.006</td></tr>\n",
       "<tr><td>853388144</td><td>853388144.01</td><td>--</td><td>--</td><td>--</td><td>--</td><td>--</td><td>--</td><td>--</td><td>--</td><td>PC</td><td>--</td><td>15.1208</td><td>0.031</td></tr>\n",
       "<tr><td>859480036</td><td>859480036.01</td><td>--</td><td>--</td><td>--</td><td>--</td><td>--</td><td>--</td><td>--</td><td>--</td><td>PC</td><td>--</td><td>12.5082</td><td>0.014</td></tr>\n",
       "<tr><td>901674675</td><td>901674675.01</td><td>--</td><td>--</td><td>--</td><td>--</td><td>--</td><td>--</td><td>--</td><td>--</td><td>PC</td><td>--</td><td>12.0146</td><td>0.01</td></tr>\n",
       "<tr><td>1030389830</td><td>1030389830.01</td><td>--</td><td>--</td><td>--</td><td>--</td><td>--</td><td>--</td><td>--</td><td>--</td><td>PC</td><td>--</td><td>14.8192</td><td>0.008</td></tr>\n",
       "<tr><td>1036769612</td><td>1036769612.01</td><td>--</td><td>--</td><td>--</td><td>--</td><td>--</td><td>--</td><td>--</td><td>--</td><td>PC</td><td>--</td><td>16.0497</td><td>0.178</td></tr>\n",
       "</table>"
      ],
      "text/plain": [
       "<Table length=927>\n",
       "  TIC ID        CTOI     Promoted to TOI ... TESS Mag TESS Mag err\n",
       "  int64       float64        float64     ... float64    float64   \n",
       "---------- ------------- --------------- ... -------- ------------\n",
       "     17361      17361.01              -- ...   11.342        0.006\n",
       "   1042868    1042868.01              -- ...   5.8706        0.006\n",
       "   1449756    1449756.01              -- ...  10.8256        0.006\n",
       "   1525480    1525480.01              -- ...  12.2668        0.007\n",
       "   2760219    2760219.01         2382.01 ...  11.4408        0.006\n",
       "   7422496    7422496.01              -- ...   8.7601        0.006\n",
       "   8963901    8963901.01              -- ...  11.2163        0.015\n",
       "   9376051    9376051.01              -- ...  9.97062        0.006\n",
       "  10747470   10747470.01              -- ...  9.72577        0.006\n",
       "  11356662   11356662.01              -- ...  10.0162        0.006\n",
       "       ...           ...             ... ...      ...          ...\n",
       " 467522800  467522800.01              -- ...  13.9784        0.007\n",
       " 467785319  467785319.01              -- ...  10.8969        0.006\n",
       " 468981993  468981993.01              -- ...  10.7003        0.006\n",
       " 738065944  738065944.01              -- ...  12.3296        0.006\n",
       " 748919024  748919024.01              -- ...  13.3927        0.006\n",
       " 853388144  853388144.01              -- ...  15.1208        0.031\n",
       " 859480036  859480036.01              -- ...  12.5082        0.014\n",
       " 901674675  901674675.01              -- ...  12.0146         0.01\n",
       "1030389830 1030389830.01              -- ...  14.8192        0.008\n",
       "1036769612 1036769612.01              -- ...  16.0497        0.178"
      ]
     },
     "execution_count": 10,
     "metadata": {},
     "output_type": "execute_result"
    }
   ],
   "source": [
    "exo_ctio_tab = Table.read('TOI_Lists/ExoFOP/ctoi_small_20220805.csv')\n",
    "exo_ctio_tab"
   ]
  },
  {
   "cell_type": "markdown",
   "metadata": {},
   "source": [
    "## Make Catalog"
   ]
  },
  {
   "cell_type": "code",
   "execution_count": 11,
   "metadata": {},
   "outputs": [],
   "source": [
    "cat_tab = Table()"
   ]
  },
  {
   "cell_type": "code",
   "execution_count": 12,
   "metadata": {},
   "outputs": [
    {
     "data": {
      "text/html": [
       "<i>Table length=428838</i>\n",
       "<table id=\"table140047309675088\" class=\"table-striped table-bordered table-condensed\">\n",
       "<thead><tr><th>TICID</th><th>Target_Type</th></tr></thead>\n",
       "<thead><tr><th>int64</th><th>str8</th></tr></thead>\n",
       "<tr><td>101</td><td>2min</td></tr>\n",
       "<tr><td>185</td><td>2min</td></tr>\n",
       "<tr><td>358</td><td>2min</td></tr>\n",
       "<tr><td>382</td><td>2min</td></tr>\n",
       "<tr><td>1078</td><td>2min</td></tr>\n",
       "<tr><td>1275</td><td>2min</td></tr>\n",
       "<tr><td>1307</td><td>2min</td></tr>\n",
       "<tr><td>1454</td><td>2min</td></tr>\n",
       "<tr><td>1608</td><td>2min</td></tr>\n",
       "<tr><td>1886</td><td>2min</td></tr>\n",
       "<tr><td>...</td><td>...</td></tr>\n",
       "<tr><td>467522800</td><td>exo_CTOI</td></tr>\n",
       "<tr><td>467785319</td><td>exo_CTOI</td></tr>\n",
       "<tr><td>468981993</td><td>exo_CTOI</td></tr>\n",
       "<tr><td>738065944</td><td>exo_CTOI</td></tr>\n",
       "<tr><td>748919024</td><td>exo_CTOI</td></tr>\n",
       "<tr><td>853388144</td><td>exo_CTOI</td></tr>\n",
       "<tr><td>859480036</td><td>exo_CTOI</td></tr>\n",
       "<tr><td>901674675</td><td>exo_CTOI</td></tr>\n",
       "<tr><td>1030389830</td><td>exo_CTOI</td></tr>\n",
       "<tr><td>1036769612</td><td>exo_CTOI</td></tr>\n",
       "</table>"
      ],
      "text/plain": [
       "<Table length=428838>\n",
       "  TICID    Target_Type\n",
       "  int64        str8   \n",
       "---------- -----------\n",
       "       101        2min\n",
       "       185        2min\n",
       "       358        2min\n",
       "       382        2min\n",
       "      1078        2min\n",
       "      1275        2min\n",
       "      1307        2min\n",
       "      1454        2min\n",
       "      1608        2min\n",
       "      1886        2min\n",
       "       ...         ...\n",
       " 467522800    exo_CTOI\n",
       " 467785319    exo_CTOI\n",
       " 468981993    exo_CTOI\n",
       " 738065944    exo_CTOI\n",
       " 748919024    exo_CTOI\n",
       " 853388144    exo_CTOI\n",
       " 859480036    exo_CTOI\n",
       " 901674675    exo_CTOI\n",
       "1030389830    exo_CTOI\n",
       "1036769612    exo_CTOI"
      ]
     },
     "execution_count": 12,
     "metadata": {},
     "output_type": "execute_result"
    }
   ],
   "source": [
    "cat_tab[\"TICID\"]  = np.array(list(twomin_tab['TICID'])+list(exo_tio_tab['TIC ID'])+list(exo_ctio_tab['TIC ID']))\n",
    "cat_tab[\"Target_Type\"]  = np.concatenate([np.repeat('2min',len(twomin_tab)),np.repeat('exo_TOI',len(exo_tio_tab)), \n",
    "                                          np.repeat('exo_CTOI',len(exo_ctio_tab))])\n",
    "cat_tab"
   ]
  },
  {
   "cell_type": "code",
   "execution_count": 13,
   "metadata": {},
   "outputs": [
    {
     "data": {
      "text/html": [
       "<i>Table length=2</i>\n",
       "<table id=\"table140048080279824\" class=\"table-striped table-bordered table-condensed\">\n",
       "<thead><tr><th>TICID</th><th>Target_Type</th><th>TOI</th><th>TESS Disposition</th><th>TFOPWG Disposition</th></tr></thead>\n",
       "<thead><tr><th>int64</th><th>str8</th><th>str32</th><th>str2</th><th>str3</th></tr></thead>\n",
       "<tr><td>336732616</td><td>2min</td><td></td><td></td><td></td></tr>\n",
       "<tr><td>336732616</td><td>exo_TOI</td><td>103.01</td><td>KP</td><td>KP</td></tr>\n",
       "</table>"
      ],
      "text/plain": [
       "<Table length=2>\n",
       "  TICID   Target_Type  TOI   TESS Disposition TFOPWG Disposition\n",
       "  int64       str8    str32        str2              str3       \n",
       "--------- ----------- ------ ---------------- ------------------\n",
       "336732616        2min                                           \n",
       "336732616     exo_TOI 103.01               KP                 KP"
      ]
     },
     "execution_count": 13,
     "metadata": {},
     "output_type": "execute_result"
    }
   ],
   "source": [
    "cat_tab[\"TOI\"]  = np.concatenate([np.repeat('',len(twomin_tab)),exo_tio_tab['TOI'], \n",
    "                                          np.repeat('',len(exo_ctio_tab))])\n",
    "cat_tab[\"TESS Disposition\"]  = np.concatenate([np.repeat('',len(twomin_tab)),exo_tio_tab['TESS Disposition'], \n",
    "                                          np.repeat('',len(exo_ctio_tab))])\n",
    "cat_tab[\"TFOPWG Disposition\"]  = np.concatenate([np.repeat('',len(twomin_tab)),exo_tio_tab['TFOPWG Disposition'], \n",
    "                                          exo_ctio_tab['TFOPWG Disposition']])\n",
    "cat_tab[(cat_tab['TICID'] == 336732616)]"
   ]
  },
  {
   "cell_type": "code",
   "execution_count": 14,
   "metadata": {},
   "outputs": [
    {
     "data": {
      "text/html": [
       "<i>Table length=428838</i>\n",
       "<table id=\"table140047309675088\" class=\"table-striped table-bordered table-condensed\">\n",
       "<thead><tr><th>TICID</th><th>Target_Type</th><th>TOI</th><th>TESS Disposition</th><th>TFOPWG Disposition</th><th>CTOI</th><th>User Disposition</th></tr></thead>\n",
       "<thead><tr><th>int64</th><th>str8</th><th>str32</th><th>str2</th><th>str3</th><th>str32</th><th>str2</th></tr></thead>\n",
       "<tr><td>101</td><td>2min</td><td></td><td></td><td></td><td></td><td></td></tr>\n",
       "<tr><td>185</td><td>2min</td><td></td><td></td><td></td><td></td><td></td></tr>\n",
       "<tr><td>358</td><td>2min</td><td></td><td></td><td></td><td></td><td></td></tr>\n",
       "<tr><td>382</td><td>2min</td><td></td><td></td><td></td><td></td><td></td></tr>\n",
       "<tr><td>1078</td><td>2min</td><td></td><td></td><td></td><td></td><td></td></tr>\n",
       "<tr><td>1275</td><td>2min</td><td></td><td></td><td></td><td></td><td></td></tr>\n",
       "<tr><td>1307</td><td>2min</td><td></td><td></td><td></td><td></td><td></td></tr>\n",
       "<tr><td>1454</td><td>2min</td><td></td><td></td><td></td><td></td><td></td></tr>\n",
       "<tr><td>1608</td><td>2min</td><td></td><td></td><td></td><td></td><td></td></tr>\n",
       "<tr><td>1886</td><td>2min</td><td></td><td></td><td></td><td></td><td></td></tr>\n",
       "<tr><td>...</td><td>...</td><td>...</td><td>...</td><td>...</td><td>...</td><td>...</td></tr>\n",
       "<tr><td>467522800</td><td>exo_CTOI</td><td></td><td></td><td>0</td><td>467522800.01</td><td>PC</td></tr>\n",
       "<tr><td>467785319</td><td>exo_CTOI</td><td></td><td></td><td>0</td><td>467785319.01</td><td>PC</td></tr>\n",
       "<tr><td>468981993</td><td>exo_CTOI</td><td></td><td></td><td>0</td><td>468981993.01</td><td>PC</td></tr>\n",
       "<tr><td>738065944</td><td>exo_CTOI</td><td></td><td></td><td>0</td><td>738065944.01</td><td>PC</td></tr>\n",
       "<tr><td>748919024</td><td>exo_CTOI</td><td></td><td></td><td>0</td><td>748919024.01</td><td>PC</td></tr>\n",
       "<tr><td>853388144</td><td>exo_CTOI</td><td></td><td></td><td>0</td><td>853388144.01</td><td>PC</td></tr>\n",
       "<tr><td>859480036</td><td>exo_CTOI</td><td></td><td></td><td>0</td><td>859480036.01</td><td>PC</td></tr>\n",
       "<tr><td>901674675</td><td>exo_CTOI</td><td></td><td></td><td>0</td><td>901674675.01</td><td>PC</td></tr>\n",
       "<tr><td>1030389830</td><td>exo_CTOI</td><td></td><td></td><td>0</td><td>1030389830.01</td><td>PC</td></tr>\n",
       "<tr><td>1036769612</td><td>exo_CTOI</td><td></td><td></td><td>0</td><td>1036769612.01</td><td>PC</td></tr>\n",
       "</table>"
      ],
      "text/plain": [
       "<Table length=428838>\n",
       "  TICID    Target_Type  TOI  ...      CTOI     User Disposition\n",
       "  int64        str8    str32 ...     str32           str2      \n",
       "---------- ----------- ----- ... ------------- ----------------\n",
       "       101        2min       ...                               \n",
       "       185        2min       ...                               \n",
       "       358        2min       ...                               \n",
       "       382        2min       ...                               \n",
       "      1078        2min       ...                               \n",
       "      1275        2min       ...                               \n",
       "      1307        2min       ...                               \n",
       "      1454        2min       ...                               \n",
       "      1608        2min       ...                               \n",
       "      1886        2min       ...                               \n",
       "       ...         ...   ... ...           ...              ...\n",
       " 467522800    exo_CTOI       ...  467522800.01               PC\n",
       " 467785319    exo_CTOI       ...  467785319.01               PC\n",
       " 468981993    exo_CTOI       ...  468981993.01               PC\n",
       " 738065944    exo_CTOI       ...  738065944.01               PC\n",
       " 748919024    exo_CTOI       ...  748919024.01               PC\n",
       " 853388144    exo_CTOI       ...  853388144.01               PC\n",
       " 859480036    exo_CTOI       ...  859480036.01               PC\n",
       " 901674675    exo_CTOI       ...  901674675.01               PC\n",
       "1030389830    exo_CTOI       ... 1030389830.01               PC\n",
       "1036769612    exo_CTOI       ... 1036769612.01               PC"
      ]
     },
     "execution_count": 14,
     "metadata": {},
     "output_type": "execute_result"
    }
   ],
   "source": [
    "cat_tab[\"CTOI\"]  = np.concatenate([np.repeat('',len(twomin_tab)),np.repeat('',len(exo_tio_tab)), \n",
    "                                          exo_ctio_tab['CTOI']])\n",
    "cat_tab[\"User Disposition\"]  = np.concatenate([np.repeat('',len(twomin_tab)),np.repeat('',len(exo_tio_tab)), \n",
    "                                          exo_ctio_tab['User Disposition']])\n",
    "cat_tab"
   ]
  },
  {
   "cell_type": "code",
   "execution_count": 15,
   "metadata": {},
   "outputs": [
    {
     "data": {
      "text/html": [
       "<i>Table length=428838</i>\n",
       "<table id=\"table140047309675088\" class=\"table-striped table-bordered table-condensed\">\n",
       "<thead><tr><th>TICID</th><th>Target_Type</th><th>TOI</th><th>TESS Disposition</th><th>TFOPWG Disposition</th><th>CTOI</th><th>User Disposition</th><th>Num_Sectors</th></tr></thead>\n",
       "<thead><tr><th>int64</th><th>str8</th><th>str32</th><th>str2</th><th>str3</th><th>str32</th><th>str2</th><th>float64</th></tr></thead>\n",
       "<tr><td>101</td><td>2min</td><td></td><td></td><td></td><td></td><td></td><td>1.0</td></tr>\n",
       "<tr><td>185</td><td>2min</td><td></td><td></td><td></td><td></td><td></td><td>1.0</td></tr>\n",
       "<tr><td>358</td><td>2min</td><td></td><td></td><td></td><td></td><td></td><td>1.0</td></tr>\n",
       "<tr><td>382</td><td>2min</td><td></td><td></td><td></td><td></td><td></td><td>1.0</td></tr>\n",
       "<tr><td>1078</td><td>2min</td><td></td><td></td><td></td><td></td><td></td><td>1.0</td></tr>\n",
       "<tr><td>1275</td><td>2min</td><td></td><td></td><td></td><td></td><td></td><td>1.0</td></tr>\n",
       "<tr><td>1307</td><td>2min</td><td></td><td></td><td></td><td></td><td></td><td>2.0</td></tr>\n",
       "<tr><td>1454</td><td>2min</td><td></td><td></td><td></td><td></td><td></td><td>1.0</td></tr>\n",
       "<tr><td>1608</td><td>2min</td><td></td><td></td><td></td><td></td><td></td><td>2.0</td></tr>\n",
       "<tr><td>1886</td><td>2min</td><td></td><td></td><td></td><td></td><td></td><td>1.0</td></tr>\n",
       "<tr><td>...</td><td>...</td><td>...</td><td>...</td><td>...</td><td>...</td><td>...</td><td>...</td></tr>\n",
       "<tr><td>467522800</td><td>exo_CTOI</td><td></td><td></td><td>0</td><td>467522800.01</td><td>PC</td><td>nan</td></tr>\n",
       "<tr><td>467785319</td><td>exo_CTOI</td><td></td><td></td><td>0</td><td>467785319.01</td><td>PC</td><td>nan</td></tr>\n",
       "<tr><td>468981993</td><td>exo_CTOI</td><td></td><td></td><td>0</td><td>468981993.01</td><td>PC</td><td>nan</td></tr>\n",
       "<tr><td>738065944</td><td>exo_CTOI</td><td></td><td></td><td>0</td><td>738065944.01</td><td>PC</td><td>nan</td></tr>\n",
       "<tr><td>748919024</td><td>exo_CTOI</td><td></td><td></td><td>0</td><td>748919024.01</td><td>PC</td><td>nan</td></tr>\n",
       "<tr><td>853388144</td><td>exo_CTOI</td><td></td><td></td><td>0</td><td>853388144.01</td><td>PC</td><td>nan</td></tr>\n",
       "<tr><td>859480036</td><td>exo_CTOI</td><td></td><td></td><td>0</td><td>859480036.01</td><td>PC</td><td>nan</td></tr>\n",
       "<tr><td>901674675</td><td>exo_CTOI</td><td></td><td></td><td>0</td><td>901674675.01</td><td>PC</td><td>nan</td></tr>\n",
       "<tr><td>1030389830</td><td>exo_CTOI</td><td></td><td></td><td>0</td><td>1030389830.01</td><td>PC</td><td>nan</td></tr>\n",
       "<tr><td>1036769612</td><td>exo_CTOI</td><td></td><td></td><td>0</td><td>1036769612.01</td><td>PC</td><td>nan</td></tr>\n",
       "</table>"
      ],
      "text/plain": [
       "<Table length=428838>\n",
       "  TICID    Target_Type  TOI  ...      CTOI     User Disposition Num_Sectors\n",
       "  int64        str8    str32 ...     str32           str2         float64  \n",
       "---------- ----------- ----- ... ------------- ---------------- -----------\n",
       "       101        2min       ...                                        1.0\n",
       "       185        2min       ...                                        1.0\n",
       "       358        2min       ...                                        1.0\n",
       "       382        2min       ...                                        1.0\n",
       "      1078        2min       ...                                        1.0\n",
       "      1275        2min       ...                                        1.0\n",
       "      1307        2min       ...                                        2.0\n",
       "      1454        2min       ...                                        1.0\n",
       "      1608        2min       ...                                        2.0\n",
       "      1886        2min       ...                                        1.0\n",
       "       ...         ...   ... ...           ...              ...         ...\n",
       " 467522800    exo_CTOI       ...  467522800.01               PC         nan\n",
       " 467785319    exo_CTOI       ...  467785319.01               PC         nan\n",
       " 468981993    exo_CTOI       ...  468981993.01               PC         nan\n",
       " 738065944    exo_CTOI       ...  738065944.01               PC         nan\n",
       " 748919024    exo_CTOI       ...  748919024.01               PC         nan\n",
       " 853388144    exo_CTOI       ...  853388144.01               PC         nan\n",
       " 859480036    exo_CTOI       ...  859480036.01               PC         nan\n",
       " 901674675    exo_CTOI       ...  901674675.01               PC         nan\n",
       "1030389830    exo_CTOI       ... 1030389830.01               PC         nan\n",
       "1036769612    exo_CTOI       ... 1036769612.01               PC         nan"
      ]
     },
     "execution_count": 15,
     "metadata": {},
     "output_type": "execute_result"
    }
   ],
   "source": [
    "cat_tab[\"Num_Sectors\"]  = np.concatenate([twomin_tab['Num_Sectors'],np.repeat(np.nan,len(exo_tio_tab)), \n",
    "                                          np.repeat(np.nan,len(exo_ctio_tab))])\n",
    "cat_tab"
   ]
  },
  {
   "cell_type": "markdown",
   "metadata": {},
   "source": [
    "220941 unique ids."
   ]
  },
  {
   "cell_type": "code",
   "execution_count": 16,
   "metadata": {},
   "outputs": [],
   "source": [
    "cat_tab.write(\"TESS_Observedv1.0.fits\",overwrite=True)"
   ]
  },
  {
   "cell_type": "code",
   "execution_count": 17,
   "metadata": {},
   "outputs": [
    {
     "data": {
      "text/html": [
       "<i>Table length=428838</i>\n",
       "<table id=\"table140047309799248\" class=\"table-striped table-bordered table-condensed\">\n",
       "<thead><tr><th>TICID</th><th>Target_Type</th><th>TOI</th><th>TESS Disposition</th><th>TFOPWG Disposition</th><th>CTOI</th><th>User Disposition</th><th>Num_Sectors</th></tr></thead>\n",
       "<thead><tr><th>int64</th><th>bytes8</th><th>bytes32</th><th>bytes2</th><th>bytes3</th><th>bytes32</th><th>bytes2</th><th>float64</th></tr></thead>\n",
       "<tr><td>101</td><td>2min</td><td></td><td></td><td></td><td></td><td></td><td>1.0</td></tr>\n",
       "<tr><td>185</td><td>2min</td><td></td><td></td><td></td><td></td><td></td><td>1.0</td></tr>\n",
       "<tr><td>358</td><td>2min</td><td></td><td></td><td></td><td></td><td></td><td>1.0</td></tr>\n",
       "<tr><td>382</td><td>2min</td><td></td><td></td><td></td><td></td><td></td><td>1.0</td></tr>\n",
       "<tr><td>1078</td><td>2min</td><td></td><td></td><td></td><td></td><td></td><td>1.0</td></tr>\n",
       "<tr><td>1275</td><td>2min</td><td></td><td></td><td></td><td></td><td></td><td>1.0</td></tr>\n",
       "<tr><td>1307</td><td>2min</td><td></td><td></td><td></td><td></td><td></td><td>2.0</td></tr>\n",
       "<tr><td>1454</td><td>2min</td><td></td><td></td><td></td><td></td><td></td><td>1.0</td></tr>\n",
       "<tr><td>1608</td><td>2min</td><td></td><td></td><td></td><td></td><td></td><td>2.0</td></tr>\n",
       "<tr><td>1886</td><td>2min</td><td></td><td></td><td></td><td></td><td></td><td>1.0</td></tr>\n",
       "<tr><td>...</td><td>...</td><td>...</td><td>...</td><td>...</td><td>...</td><td>...</td><td>...</td></tr>\n",
       "<tr><td>467522800</td><td>exo_CTOI</td><td></td><td></td><td>0</td><td>467522800.01</td><td>PC</td><td>nan</td></tr>\n",
       "<tr><td>467785319</td><td>exo_CTOI</td><td></td><td></td><td>0</td><td>467785319.01</td><td>PC</td><td>nan</td></tr>\n",
       "<tr><td>468981993</td><td>exo_CTOI</td><td></td><td></td><td>0</td><td>468981993.01</td><td>PC</td><td>nan</td></tr>\n",
       "<tr><td>738065944</td><td>exo_CTOI</td><td></td><td></td><td>0</td><td>738065944.01</td><td>PC</td><td>nan</td></tr>\n",
       "<tr><td>748919024</td><td>exo_CTOI</td><td></td><td></td><td>0</td><td>748919024.01</td><td>PC</td><td>nan</td></tr>\n",
       "<tr><td>853388144</td><td>exo_CTOI</td><td></td><td></td><td>0</td><td>853388144.01</td><td>PC</td><td>nan</td></tr>\n",
       "<tr><td>859480036</td><td>exo_CTOI</td><td></td><td></td><td>0</td><td>859480036.01</td><td>PC</td><td>nan</td></tr>\n",
       "<tr><td>901674675</td><td>exo_CTOI</td><td></td><td></td><td>0</td><td>901674675.01</td><td>PC</td><td>nan</td></tr>\n",
       "<tr><td>1030389830</td><td>exo_CTOI</td><td></td><td></td><td>0</td><td>1030389830.01</td><td>PC</td><td>nan</td></tr>\n",
       "<tr><td>1036769612</td><td>exo_CTOI</td><td></td><td></td><td>0</td><td>1036769612.01</td><td>PC</td><td>nan</td></tr>\n",
       "</table>"
      ],
      "text/plain": [
       "<Table length=428838>\n",
       "  TICID    Target_Type   TOI   ...      CTOI     User Disposition Num_Sectors\n",
       "  int64       bytes8   bytes32 ...    bytes32         bytes2        float64  \n",
       "---------- ----------- ------- ... ------------- ---------------- -----------\n",
       "       101        2min         ...                                        1.0\n",
       "       185        2min         ...                                        1.0\n",
       "       358        2min         ...                                        1.0\n",
       "       382        2min         ...                                        1.0\n",
       "      1078        2min         ...                                        1.0\n",
       "      1275        2min         ...                                        1.0\n",
       "      1307        2min         ...                                        2.0\n",
       "      1454        2min         ...                                        1.0\n",
       "      1608        2min         ...                                        2.0\n",
       "      1886        2min         ...                                        1.0\n",
       "       ...         ...     ... ...           ...              ...         ...\n",
       " 467522800    exo_CTOI         ...  467522800.01               PC         nan\n",
       " 467785319    exo_CTOI         ...  467785319.01               PC         nan\n",
       " 468981993    exo_CTOI         ...  468981993.01               PC         nan\n",
       " 738065944    exo_CTOI         ...  738065944.01               PC         nan\n",
       " 748919024    exo_CTOI         ...  748919024.01               PC         nan\n",
       " 853388144    exo_CTOI         ...  853388144.01               PC         nan\n",
       " 859480036    exo_CTOI         ...  859480036.01               PC         nan\n",
       " 901674675    exo_CTOI         ...  901674675.01               PC         nan\n",
       "1030389830    exo_CTOI         ... 1030389830.01               PC         nan\n",
       "1036769612    exo_CTOI         ... 1036769612.01               PC         nan"
      ]
     },
     "execution_count": 17,
     "metadata": {},
     "output_type": "execute_result"
    }
   ],
   "source": [
    "test_tab = Table.read(\"TESS_Observedv1.0.fits\")\n",
    "test_tab"
   ]
  },
  {
   "cell_type": "markdown",
   "metadata": {},
   "source": [
    "## Find targets that are in both TOI and CTOI\n",
    "All duplicates between TOI and CTOI are because another planet candidate was found!"
   ]
  },
  {
   "cell_type": "code",
   "execution_count": 18,
   "metadata": {},
   "outputs": [
    {
     "data": {
      "text/plain": [
       "array([    17361,   1449756,   1525480,   2760219,   7422496,  11521555,\n",
       "        13737885,  24358417,  24695044,  26547036,  27318774,  27774415,\n",
       "        27916356,  27990610,  29169215,  29959761,  30947715,  31656385,\n",
       "        32925763,  39218269,  39414571,  47601197,  48018596,  48217457,\n",
       "        50309953,  55525572,  59859387,  63452790,  63698669,  67196573,\n",
       "        70524163,  70887357,  72556406,  82452140,  88840705,  88902249,\n",
       "        91555165,  91987762,  98796344,  98957720, 100267480, 100589632,\n",
       "       103195323, 103633672, 110996418, 120033290, 122441491, 122596693,\n",
       "       123233041, 123495874, 124095888, 124206468, 124515764, 131419878,\n",
       "       135036669, 138126035, 139198430, 139444326, 139771134, 139877968,\n",
       "       140830390, 141768070, 142087638, 142276270, 142387023, 143257768,\n",
       "       144124187, 144297844, 150030205, 153065527, 158167408, 158241252,\n",
       "       158388163, 158551257, 159098316, 160003961, 160039081, 160491359,\n",
       "       164786087, 164892194, 166184426, 166834768, 167661160, 168751223,\n",
       "       172370679, 174302697, 175180796, 176956893, 177079323, 178709444,\n",
       "       179033846, 179582003, 180991313, 189620016, 192790476, 200743403,\n",
       "       201177276, 204671232, 206541859, 207425203, 207501148, 217933560,\n",
       "       219151731, 219466784, 219508169, 219701535, 219762508, 219766989,\n",
       "       219821826, 219879302, 220068921, 220076110, 229138584, 229400092,\n",
       "       229490898, 229586455, 229608594, 229715760, 229742722, 229750058,\n",
       "       229787062, 229791084, 230001847, 230087585, 230127302, 230375747,\n",
       "       230387153, 231071138, 231630147, 232641326, 232982938, 233047097,\n",
       "       233068569, 233078665, 233497719, 233503636, 235078021, 235943205,\n",
       "       237201858, 237913194, 237922465, 238932509, 243187830, 243335710,\n",
       "       256722647, 257605131, 258389327, 258510872, 258871793, 260004324,\n",
       "       260417932, 260849386, 264544388, 264979636, 268301217, 268604331,\n",
       "       268823307, 269269546, 271042217, 271354351, 272758199, 274599700,\n",
       "       279327604, 279514271, 280865159, 282498590, 282940781, 284361752,\n",
       "       286000547, 288636342, 288636599, 290036495, 294500964, 294691204,\n",
       "       298663873, 299220166, 299780329, 301343785, 302333151, 302924206,\n",
       "       303317324, 303586471, 304142124, 304339227, 306337838, 306472057,\n",
       "       306996324, 307958020, 308425348, 311179742, 313006381, 313891529,\n",
       "       317019074, 317483660, 321668398, 322807675, 323295479, 328933398,\n",
       "       332558858, 333734769, 336075472, 344085117, 347357977, 348755728,\n",
       "       348756659, 349488688, 349972412, 355446093, 355867695, 356700488,\n",
       "       356710041, 356919658, 358579111, 359357695, 364395234, 367630162,\n",
       "       368435330, 369376388, 370138999, 371443216, 382200986, 382602147,\n",
       "       384159646, 388198242, 394287035, 394721720, 396368313, 399860444,\n",
       "       400430915, 400476523, 401125028, 403136415, 404518509, 405452527,\n",
       "       405717754, 408636441, 415969908, 418255064, 420645189, 422914082,\n",
       "       432132155, 436102447, 436637677, 436873727, 441159680, 441642457,\n",
       "       441765914, 445456888, 449197624, 459997997, 462162963, 466206508,\n",
       "       468981993])"
      ]
     },
     "execution_count": 18,
     "metadata": {},
     "output_type": "execute_result"
    }
   ],
   "source": [
    "toi_id  = np.unique(cat_tab['TICID'][(cat_tab['Target_Type'] == 'exo_TOI')])\n",
    "ctoi_id  = np.unique(cat_tab['TICID'][(cat_tab['Target_Type'] == 'exo_CTOI')])\n",
    "all_toi_id = np.concatenate([toi_id,ctoi_id])\n",
    "(uniq_toi,uniq_count) = np.unique(all_toi_id,return_counts=True)\n",
    "uniq_toi[(uniq_count > 1)]"
   ]
  },
  {
   "cell_type": "code",
   "execution_count": 19,
   "metadata": {},
   "outputs": [
    {
     "data": {
      "text/html": [
       "<i>Table length=4</i>\n",
       "<table id=\"table140047309819536\" class=\"table-striped table-bordered table-condensed\">\n",
       "<thead><tr><th>TICID</th><th>Target_Type</th><th>TOI</th><th>TESS Disposition</th><th>TFOPWG Disposition</th><th>CTOI</th><th>User Disposition</th><th>Num_Sectors</th></tr></thead>\n",
       "<thead><tr><th>int64</th><th>str8</th><th>str32</th><th>str2</th><th>str3</th><th>str32</th><th>str2</th><th>float64</th></tr></thead>\n",
       "<tr><td>415969908</td><td>2min</td><td></td><td></td><td></td><td></td><td></td><td>3.0</td></tr>\n",
       "<tr><td>415969908</td><td>exo_TOI</td><td>233.01</td><td>PC</td><td>PC</td><td></td><td></td><td>nan</td></tr>\n",
       "<tr><td>415969908</td><td>exo_TOI</td><td>233.02</td><td>PC</td><td>PC</td><td></td><td></td><td>nan</td></tr>\n",
       "<tr><td>415969908</td><td>exo_CTOI</td><td></td><td></td><td>0</td><td>415969908.02</td><td>PC</td><td>nan</td></tr>\n",
       "</table>"
      ],
      "text/plain": [
       "<Table length=4>\n",
       "  TICID   Target_Type  TOI   ...     CTOI     User Disposition Num_Sectors\n",
       "  int64       str8    str32  ...    str32           str2         float64  \n",
       "--------- ----------- ------ ... ------------ ---------------- -----------\n",
       "415969908        2min        ...                                       3.0\n",
       "415969908     exo_TOI 233.01 ...                                       nan\n",
       "415969908     exo_TOI 233.02 ...                                       nan\n",
       "415969908    exo_CTOI        ... 415969908.02               PC         nan"
      ]
     },
     "execution_count": 19,
     "metadata": {},
     "output_type": "execute_result"
    }
   ],
   "source": [
    "cat_tab[(cat_tab['TICID']== 415969908)]"
   ]
  },
  {
   "cell_type": "code",
   "execution_count": null,
   "metadata": {},
   "outputs": [],
   "source": []
  }
 ],
 "metadata": {
  "kernelspec": {
   "display_name": "Python 3",
   "language": "python",
   "name": "python3"
  },
  "language_info": {
   "codemirror_mode": {
    "name": "ipython",
    "version": 3
   },
   "file_extension": ".py",
   "mimetype": "text/x-python",
   "name": "python",
   "nbconvert_exporter": "python",
   "pygments_lexer": "ipython3",
   "version": "3.7.10"
  }
 },
 "nbformat": 4,
 "nbformat_minor": 2
}
