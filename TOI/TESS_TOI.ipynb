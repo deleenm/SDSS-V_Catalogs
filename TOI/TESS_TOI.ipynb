{
 "cells": [
  {
   "cell_type": "markdown",
   "metadata": {},
   "source": [
    "# TESS GI Proposal\n",
    "This notebook aims to create a list of stars observed by TESS and then determine the number of M dwarfs observed."
   ]
  },
  {
   "cell_type": "markdown",
   "metadata": {},
   "source": [
    "## Create list of TESS 2-minute cadence stars. \n",
    "Sectors 1 through 23 are currently available here: https://tess.mit.edu/observations/target-lists/\n",
    "Last updated 04/02/2020"
   ]
  },
  {
   "cell_type": "code",
   "execution_count": 1,
   "metadata": {},
   "outputs": [],
   "source": [
    "import numpy as np\n",
    "from matplotlib import pyplot as plt\n",
    "from astropy.table import Table,vstack\n",
    "from astropy.coordinates import SkyCoord\n",
    "from astropy.coordinates import Galactic,FK5,BarycentricTrueEcliptic\n",
    "import astropy.units as u\n",
    "import time\n",
    "from astroquery.mast import Catalogs\n",
    "%matplotlib inline"
   ]
  },
  {
   "cell_type": "code",
   "execution_count": 2,
   "metadata": {},
   "outputs": [
    {
     "data": {
      "text/html": [
       "<i>Table length=447899</i>\n",
       "<table id=\"table139623754847248\" class=\"table-striped table-bordered table-condensed\">\n",
       "<thead><tr><th>TICID</th><th>Camera</th><th>CCD</th><th>Tmag</th><th>RA</th><th>Dec</th><th>Sector</th></tr></thead>\n",
       "<thead><tr><th>int64</th><th>int64</th><th>int64</th><th>float64</th><th>float64</th><th>float64</th><th>int64</th></tr></thead>\n",
       "<tr><td>8195886</td><td>1</td><td>1</td><td>9.85</td><td>311.3326</td><td>-38.4275</td><td>1</td></tr>\n",
       "<tr><td>8196058</td><td>1</td><td>1</td><td>8.18</td><td>311.3688</td><td>-38.0655</td><td>1</td></tr>\n",
       "<tr><td>8196173</td><td>1</td><td>1</td><td>8.99</td><td>311.4127</td><td>-37.8439</td><td>1</td></tr>\n",
       "<tr><td>8196285</td><td>1</td><td>1</td><td>9.08</td><td>311.356</td><td>-37.5918</td><td>1</td></tr>\n",
       "<tr><td>8196324</td><td>1</td><td>1</td><td>9.39</td><td>311.3043</td><td>-37.5068</td><td>1</td></tr>\n",
       "<tr><td>8196402</td><td>1</td><td>1</td><td>9.97</td><td>311.4088</td><td>-37.3279</td><td>1</td></tr>\n",
       "<tr><td>24195569</td><td>1</td><td>4</td><td>12.75</td><td>317.9844</td><td>-22.8767</td><td>1</td></tr>\n",
       "<tr><td>24195690</td><td>1</td><td>4</td><td>9.41</td><td>318.0197</td><td>-22.5439</td><td>1</td></tr>\n",
       "<tr><td>24231627</td><td>1</td><td>4</td><td>9.64</td><td>318.1267</td><td>-23.4428</td><td>1</td></tr>\n",
       "<tr><td>24265684</td><td>1</td><td>4</td><td>7.49</td><td>318.3628</td><td>-22.5463</td><td>1</td></tr>\n",
       "<tr><td>...</td><td>...</td><td>...</td><td>...</td><td>...</td><td>...</td><td>...</td></tr>\n",
       "<tr><td>1884467815</td><td>4</td><td>4</td><td>10.49</td><td>294.0754</td><td>71.8549</td><td>23</td></tr>\n",
       "<tr><td>1884483574</td><td>4</td><td>4</td><td>9.43</td><td>294.8208</td><td>72.3279</td><td>23</td></tr>\n",
       "<tr><td>1884497349</td><td>4</td><td>4</td><td>12.91</td><td>290.636</td><td>72.5463</td><td>23</td></tr>\n",
       "<tr><td>1884524546</td><td>4</td><td>4</td><td>11.36</td><td>298.316</td><td>74.997</td><td>23</td></tr>\n",
       "<tr><td>1884556291</td><td>4</td><td>4</td><td>17.44</td><td>296.6833</td><td>76.6411</td><td>23</td></tr>\n",
       "<tr><td>1981303680</td><td>4</td><td>4</td><td>8.2</td><td>300.3917</td><td>70.4546</td><td>23</td></tr>\n",
       "<tr><td>1981621672</td><td>4</td><td>4</td><td>6.66</td><td>309.3476</td><td>75.6036</td><td>23</td></tr>\n",
       "<tr><td>1981699530</td><td>4</td><td>4</td><td>16.84</td><td>302.8349</td><td>77.1744</td><td>23</td></tr>\n",
       "<tr><td>10001286249</td><td>2</td><td>3</td><td>14.91</td><td>195.5006</td><td>27.7828</td><td>23</td></tr>\n",
       "<tr><td>10005000078</td><td>1</td><td>3</td><td>8.55</td><td>187.7059</td><td>12.3911</td><td>23</td></tr>\n",
       "</table>"
      ],
      "text/plain": [
       "<Table length=447899>\n",
       "   TICID    Camera  CCD    Tmag     RA      Dec    Sector\n",
       "   int64    int64  int64 float64 float64  float64  int64 \n",
       "----------- ------ ----- ------- -------- -------- ------\n",
       "    8195886      1     1    9.85 311.3326 -38.4275      1\n",
       "    8196058      1     1    8.18 311.3688 -38.0655      1\n",
       "    8196173      1     1    8.99 311.4127 -37.8439      1\n",
       "    8196285      1     1    9.08  311.356 -37.5918      1\n",
       "    8196324      1     1    9.39 311.3043 -37.5068      1\n",
       "    8196402      1     1    9.97 311.4088 -37.3279      1\n",
       "   24195569      1     4   12.75 317.9844 -22.8767      1\n",
       "   24195690      1     4    9.41 318.0197 -22.5439      1\n",
       "   24231627      1     4    9.64 318.1267 -23.4428      1\n",
       "   24265684      1     4    7.49 318.3628 -22.5463      1\n",
       "        ...    ...   ...     ...      ...      ...    ...\n",
       " 1884467815      4     4   10.49 294.0754  71.8549     23\n",
       " 1884483574      4     4    9.43 294.8208  72.3279     23\n",
       " 1884497349      4     4   12.91  290.636  72.5463     23\n",
       " 1884524546      4     4   11.36  298.316   74.997     23\n",
       " 1884556291      4     4   17.44 296.6833  76.6411     23\n",
       " 1981303680      4     4     8.2 300.3917  70.4546     23\n",
       " 1981621672      4     4    6.66 309.3476  75.6036     23\n",
       " 1981699530      4     4   16.84 302.8349  77.1744     23\n",
       "10001286249      2     3   14.91 195.5006  27.7828     23\n",
       "10005000078      1     3    8.55 187.7059  12.3911     23"
      ]
     },
     "execution_count": 2,
     "metadata": {},
     "output_type": "execute_result"
    }
   ],
   "source": [
    "all_tab = Table()\n",
    "for i in range(1,23+1):\n",
    "    temp_tab = Table.read('Target_Lists/all_targets_S0{:02d}_v1.csv'.format(i),comment='#')\n",
    "    temp_tab['Sector'] = np.repeat(i,len(temp_tab))\n",
    "    all_tab = vstack([all_tab,temp_tab])\n",
    "all_tab"
   ]
  },
  {
   "cell_type": "markdown",
   "metadata": {},
   "source": [
    "## Create an array of unique ids"
   ]
  },
  {
   "cell_type": "code",
   "execution_count": 3,
   "metadata": {},
   "outputs": [
    {
     "name": "stdout",
     "output_type": "stream",
     "text": [
      "220142\n"
     ]
    }
   ],
   "source": [
    "(id_array,idx_array,counts_array) = np.unique(all_tab['TICID'],return_index=True,return_counts=True)\n",
    "print(len(id_array))"
   ]
  },
  {
   "cell_type": "code",
   "execution_count": 4,
   "metadata": {},
   "outputs": [
    {
     "name": "stdout",
     "output_type": "stream",
     "text": [
      "220142\n"
     ]
    }
   ],
   "source": [
    "twomin_tab = all_tab[idx_array]\n",
    "print(len(id_array))"
   ]
  },
  {
   "cell_type": "code",
   "execution_count": 5,
   "metadata": {},
   "outputs": [
    {
     "data": {
      "text/html": [
       "<i>Table length=220142</i>\n",
       "<table id=\"table139623772852304\" class=\"table-striped table-bordered table-condensed\">\n",
       "<thead><tr><th>TICID</th><th>Camera</th><th>CCD</th><th>Tmag</th><th>RA</th><th>Dec</th><th>Sector</th><th>Num_Sectors</th></tr></thead>\n",
       "<thead><tr><th>int64</th><th>int64</th><th>int64</th><th>float64</th><th>float64</th><th>float64</th><th>int64</th><th>int64</th></tr></thead>\n",
       "<tr><td>1078</td><td>1</td><td>4</td><td>9.56</td><td>218.8132</td><td>-28.2282</td><td>11</td><td>1</td></tr>\n",
       "<tr><td>1275</td><td>1</td><td>4</td><td>9.54</td><td>218.8347</td><td>-27.9237</td><td>11</td><td>1</td></tr>\n",
       "<tr><td>1307</td><td>1</td><td>4</td><td>10.08</td><td>218.8137</td><td>-27.8589</td><td>11</td><td>1</td></tr>\n",
       "<tr><td>1454</td><td>1</td><td>4</td><td>9.96</td><td>218.7553</td><td>-27.6012</td><td>11</td><td>1</td></tr>\n",
       "<tr><td>1608</td><td>1</td><td>4</td><td>8.69</td><td>218.7851</td><td>-27.3467</td><td>11</td><td>1</td></tr>\n",
       "<tr><td>2042</td><td>1</td><td>4</td><td>9.81</td><td>218.7369</td><td>-26.6237</td><td>11</td><td>1</td></tr>\n",
       "<tr><td>2497</td><td>1</td><td>4</td><td>8.94</td><td>218.7481</td><td>-25.7755</td><td>11</td><td>1</td></tr>\n",
       "<tr><td>3709</td><td>1</td><td>4</td><td>8.35</td><td>218.8763</td><td>-24.3451</td><td>11</td><td>1</td></tr>\n",
       "<tr><td>8610</td><td>1</td><td>4</td><td>14.12</td><td>219.0585</td><td>-27.605</td><td>11</td><td>1</td></tr>\n",
       "<tr><td>8842</td><td>1</td><td>4</td><td>15.26</td><td>219.0306</td><td>-27.2207</td><td>11</td><td>1</td></tr>\n",
       "<tr><td>...</td><td>...</td><td>...</td><td>...</td><td>...</td><td>...</td><td>...</td><td>...</td></tr>\n",
       "<tr><td>2051651993</td><td>3</td><td>3</td><td>16.94</td><td>349.1723</td><td>80.9003</td><td>18</td><td>2</td></tr>\n",
       "<tr><td>2051681638</td><td>3</td><td>3</td><td>7.36</td><td>355.2398</td><td>82.8719</td><td>18</td><td>1</td></tr>\n",
       "<tr><td>2051717158</td><td>3</td><td>3</td><td>17.45</td><td>352.2577</td><td>85.5447</td><td>18</td><td>2</td></tr>\n",
       "<tr><td>2054321411</td><td>2</td><td>3</td><td>6.12</td><td>359.8714</td><td>33.7239</td><td>17</td><td>1</td></tr>\n",
       "<tr><td>2054321412</td><td>2</td><td>3</td><td>5.96</td><td>359.8716</td><td>33.7233</td><td>17</td><td>1</td></tr>\n",
       "<tr><td>2054350776</td><td>2</td><td>3</td><td>17.26</td><td>358.9263</td><td>35.3595</td><td>17</td><td>1</td></tr>\n",
       "<tr><td>10001286249</td><td>2</td><td>3</td><td>14.91</td><td>195.5006</td><td>27.7828</td><td>23</td><td>1</td></tr>\n",
       "<tr><td>10002431953</td><td>1</td><td>1</td><td>12.85</td><td>184.6104</td><td>29.8128</td><td>22</td><td>1</td></tr>\n",
       "<tr><td>10005000001</td><td>2</td><td>4</td><td>3.84</td><td>10.6847</td><td>41.2687</td><td>17</td><td>1</td></tr>\n",
       "<tr><td>10005000078</td><td>1</td><td>3</td><td>8.55</td><td>187.7059</td><td>12.3911</td><td>23</td><td>1</td></tr>\n",
       "</table>"
      ],
      "text/plain": [
       "<Table length=220142>\n",
       "   TICID    Camera  CCD    Tmag     RA      Dec    Sector Num_Sectors\n",
       "   int64    int64  int64 float64 float64  float64  int64     int64   \n",
       "----------- ------ ----- ------- -------- -------- ------ -----------\n",
       "       1078      1     4    9.56 218.8132 -28.2282     11           1\n",
       "       1275      1     4    9.54 218.8347 -27.9237     11           1\n",
       "       1307      1     4   10.08 218.8137 -27.8589     11           1\n",
       "       1454      1     4    9.96 218.7553 -27.6012     11           1\n",
       "       1608      1     4    8.69 218.7851 -27.3467     11           1\n",
       "       2042      1     4    9.81 218.7369 -26.6237     11           1\n",
       "       2497      1     4    8.94 218.7481 -25.7755     11           1\n",
       "       3709      1     4    8.35 218.8763 -24.3451     11           1\n",
       "       8610      1     4   14.12 219.0585  -27.605     11           1\n",
       "       8842      1     4   15.26 219.0306 -27.2207     11           1\n",
       "        ...    ...   ...     ...      ...      ...    ...         ...\n",
       " 2051651993      3     3   16.94 349.1723  80.9003     18           2\n",
       " 2051681638      3     3    7.36 355.2398  82.8719     18           1\n",
       " 2051717158      3     3   17.45 352.2577  85.5447     18           2\n",
       " 2054321411      2     3    6.12 359.8714  33.7239     17           1\n",
       " 2054321412      2     3    5.96 359.8716  33.7233     17           1\n",
       " 2054350776      2     3   17.26 358.9263  35.3595     17           1\n",
       "10001286249      2     3   14.91 195.5006  27.7828     23           1\n",
       "10002431953      1     1   12.85 184.6104  29.8128     22           1\n",
       "10005000001      2     4    3.84  10.6847  41.2687     17           1\n",
       "10005000078      1     3    8.55 187.7059  12.3911     23           1"
      ]
     },
     "execution_count": 5,
     "metadata": {},
     "output_type": "execute_result"
    }
   ],
   "source": [
    "twomin_tab['Num_Sectors'] = counts_array\n",
    "twomin_tab"
   ]
  },
  {
   "cell_type": "code",
   "execution_count": 6,
   "metadata": {},
   "outputs": [
    {
     "data": {
      "text/html": [
       "<i>Table length=1</i>\n",
       "<table id=\"table139623772517904\" class=\"table-striped table-bordered table-condensed\">\n",
       "<thead><tr><th>TICID</th><th>Camera</th><th>CCD</th><th>Tmag</th><th>RA</th><th>Dec</th><th>Sector</th><th>Num_Sectors</th></tr></thead>\n",
       "<thead><tr><th>int64</th><th>int64</th><th>int64</th><th>float64</th><th>float64</th><th>float64</th><th>int64</th><th>int64</th></tr></thead>\n",
       "<tr><td>2051546579</td><td>3</td><td>2</td><td>16.8</td><td>359.385</td><td>79.2664</td><td>18</td><td>2</td></tr>\n",
       "</table>"
      ],
      "text/plain": [
       "<Table length=1>\n",
       "  TICID    Camera  CCD    Tmag     RA     Dec   Sector Num_Sectors\n",
       "  int64    int64  int64 float64 float64 float64 int64     int64   \n",
       "---------- ------ ----- ------- ------- ------- ------ -----------\n",
       "2051546579      3     2    16.8 359.385 79.2664     18           2"
      ]
     },
     "execution_count": 6,
     "metadata": {},
     "output_type": "execute_result"
    }
   ],
   "source": [
    "test_tab = twomin_tab[(twomin_tab['TICID'] == 2051546579)]\n",
    "test_tab"
   ]
  },
  {
   "cell_type": "code",
   "execution_count": 7,
   "metadata": {},
   "outputs": [
    {
     "data": {
      "text/html": [
       "<i>Table length=2</i>\n",
       "<table id=\"table139623754220816\" class=\"table-striped table-bordered table-condensed\">\n",
       "<thead><tr><th>TICID</th><th>Camera</th><th>CCD</th><th>Tmag</th><th>RA</th><th>Dec</th><th>Sector</th></tr></thead>\n",
       "<thead><tr><th>int64</th><th>int64</th><th>int64</th><th>float64</th><th>float64</th><th>float64</th><th>int64</th></tr></thead>\n",
       "<tr><td>2051546579</td><td>3</td><td>2</td><td>16.8</td><td>359.385</td><td>79.2664</td><td>18</td></tr>\n",
       "<tr><td>2051546579</td><td>3</td><td>1</td><td>16.8</td><td>359.385</td><td>79.2664</td><td>19</td></tr>\n",
       "</table>"
      ],
      "text/plain": [
       "<Table length=2>\n",
       "  TICID    Camera  CCD    Tmag     RA     Dec   Sector\n",
       "  int64    int64  int64 float64 float64 float64 int64 \n",
       "---------- ------ ----- ------- ------- ------- ------\n",
       "2051546579      3     2    16.8 359.385 79.2664     18\n",
       "2051546579      3     1    16.8 359.385 79.2664     19"
      ]
     },
     "execution_count": 7,
     "metadata": {},
     "output_type": "execute_result"
    }
   ],
   "source": [
    "test_tab2 = all_tab[(all_tab['TICID'] == 2051546579)]\n",
    "test_tab2"
   ]
  },
  {
   "cell_type": "markdown",
   "metadata": {},
   "source": [
    "## Create list of TIO/CTIO targets MIT\n",
    "Sectors 1 through 21 are currently available here:https://tess.mit.edu/toi-releases/\n",
    "Last updated 04/02/2020"
   ]
  },
  {
   "cell_type": "code",
   "execution_count": 8,
   "metadata": {},
   "outputs": [
    {
     "data": {
      "text/html": [
       "<i>Table length=1766</i>\n",
       "<table id=\"table139623754259472\" class=\"table-striped table-bordered table-condensed\">\n",
       "<thead><tr><th>TIC</th><th>Full TOI ID</th><th>Group Disposition</th><th>TOI Disposition</th><th>EXOFOP Disposition</th><th>TIC Right Ascension</th><th>TIC Declination</th><th>TMag Value</th><th>TMag Uncertainty</th><th>Orbital Epoch Value</th><th>Orbital Epoch Error</th><th>Orbital Period Value</th><th>Orbital Period Error</th><th>Transit Duration Value</th><th>Transit Duration Error</th><th>Transit Depth Value</th><th>Transit Depth Error</th><th>Sectors</th><th>Public Comment</th><th>Alerted</th><th>Edited</th></tr></thead>\n",
       "<thead><tr><th>int64</th><th>float64</th><th>str2</th><th>str2</th><th>int64</th><th>float64</th><th>float64</th><th>float64</th><th>float64</th><th>float64</th><th>float64</th><th>float64</th><th>float64</th><th>float64</th><th>float64</th><th>float64</th><th>float64</th><th>str29</th><th>str288</th><th>str24</th><th>str24</th></tr></thead>\n",
       "<tr><td>176860064</td><td>1457.01</td><td>PC</td><td>PC</td><td>--</td><td>354.83668</td><td>45.719897</td><td>7.114</td><td>0.006</td><td>1766.359365</td><td>0.0013</td><td>6.375556</td><td>0.0007</td><td>2.784942</td><td>0.204</td><td>2638.408383</td><td>40.5502</td><td>17</td><td>No information on the star; V-shaped</td><td>2019-12-05 16:42:06+0000</td><td>2020-03-05 15:23:39+0000</td></tr>\n",
       "<tr><td>236887394</td><td>1465.01</td><td>KP</td><td>KP</td><td>--</td><td>303.38174</td><td>65.162081</td><td>11.8478</td><td>0.0061</td><td>1766.00669</td><td>0.000222</td><td>1.420035</td><td>2.5e-05</td><td>1.616557</td><td>0.018567</td><td>24055.374561</td><td>186.91534</td><td>17</td><td>Qatar-1 b</td><td>2019-12-05 16:42:06+0000</td><td>2020-03-10 18:38:41+0000</td></tr>\n",
       "<tr><td>427654774</td><td>1474.01</td><td>PC</td><td>PC</td><td>--</td><td>349.287339</td><td>70.190021</td><td>14.1431</td><td>0.007508</td><td>1765.042474</td><td>0.003388</td><td>5.222621</td><td>0.001436</td><td>4.693629</td><td>0.61336</td><td>15867.992018</td><td>2007.716</td><td>17 18</td><td>3-sigma centroid offset towards another star.</td><td>2019-12-05 16:42:06+0000</td><td>2020-03-05 15:06:28+0000</td></tr>\n",
       "<tr><td>237086564</td><td>1466.01</td><td>PC</td><td>PC</td><td>--</td><td>307.395886</td><td>61.550433</td><td>11.0278</td><td>0.006</td><td>1766.255274</td><td>0.002566</td><td>1.871529</td><td>0.000393</td><td>1.643889</td><td>0.385031</td><td>1110.41978</td><td>106.224106</td><td>17</td><td>--</td><td>2019-12-05 16:42:06+0000</td><td>2020-03-05 15:23:39+0000</td></tr>\n",
       "<tr><td>240968774</td><td>1467.01</td><td>PC</td><td>PC</td><td>--</td><td>19.113929</td><td>49.23378</td><td>10.5977</td><td>0.007301</td><td>1766.983728</td><td>0.002812</td><td>5.973384</td><td>0.001413</td><td>1.605698</td><td>0.753235</td><td>1373.411277</td><td>166.74307</td><td>17</td><td>--</td><td>2019-12-05 16:42:06+0000</td><td>2020-03-05 15:06:28+0000</td></tr>\n",
       "<tr><td>431514478</td><td>1475.01</td><td>PC</td><td>PC</td><td>--</td><td>357.001182</td><td>49.790535</td><td>8.77994</td><td>0.0061</td><td>1767.618296</td><td>0.001783</td><td>8.495351</td><td>0.00127</td><td>0.906055</td><td>0.48717</td><td>718.486945</td><td>96.2614</td><td>17</td><td>Significant scattered light; only two transits; period could be doubled; second transit deeper than the first one; low priority</td><td>2019-12-05 16:42:06+0000</td><td>2020-03-05 15:23:39+0000</td></tr>\n",
       "<tr><td>243185500</td><td>1468.01</td><td>PC</td><td>PC</td><td>--</td><td>16.654062</td><td>19.225878</td><td>10.8858</td><td>0.007542</td><td>1766.928147</td><td>0.002013</td><td>15.531925</td><td>0.002694</td><td>1.75933</td><td>0.214408</td><td>3429.583608</td><td>286.74982</td><td>17</td><td>possible multi</td><td>2019-12-05 16:42:06+0000</td><td>2020-03-05 15:23:39+0000</td></tr>\n",
       "<tr><td>16920150</td><td>1459.01</td><td>PC</td><td>PC</td><td>--</td><td>19.361505</td><td>26.746175</td><td>10.1583</td><td>0.0062</td><td>1765.545981</td><td>0.004576</td><td>9.155934</td><td>0.003159</td><td>3.141202</td><td>0.862038</td><td>908.241256</td><td>124.59452</td><td>17</td><td>--</td><td>2019-12-05 16:42:06+0000</td><td>2020-03-05 15:23:40+0000</td></tr>\n",
       "<tr><td>243185500</td><td>1468.02</td><td>PC</td><td>PC</td><td>--</td><td>16.654062</td><td>19.225878</td><td>10.8858</td><td>0.007542</td><td>1765.678776</td><td>0.001847</td><td>1.880305</td><td>0.000266</td><td>1.055416</td><td>0.550014</td><td>1529.822108</td><td>180.69878</td><td>17</td><td>Centroid offset; but not towards a particular star; possible multi</td><td>2019-12-05 16:42:06+0000</td><td>2020-03-05 15:23:40+0000</td></tr>\n",
       "<tr><td>17005768</td><td>1460.01</td><td>PC</td><td>PC</td><td>--</td><td>20.61057</td><td>26.925749</td><td>9.9176</td><td>0.006</td><td>1765.265174</td><td>0.000837</td><td>6.842651</td><td>0.000476</td><td>3.345632</td><td>0.071432</td><td>8120.077557</td><td>152.06758</td><td>17</td><td>There is a positive flare-like feature following the transit events</td><td>2019-12-05 16:42:06+0000</td><td>2020-03-05 15:23:40+0000</td></tr>\n",
       "<tr><td>...</td><td>...</td><td>...</td><td>...</td><td>...</td><td>...</td><td>...</td><td>...</td><td>...</td><td>...</td><td>...</td><td>...</td><td>...</td><td>...</td><td>...</td><td>...</td><td>...</td><td>...</td><td>...</td><td>...</td><td>...</td></tr>\n",
       "<tr><td>142276270</td><td>1136.02</td><td>PC</td><td>PC</td><td>--</td><td>192.184889</td><td>64.855319</td><td>8.936</td><td>0.006</td><td>1688.716985</td><td>0.002097</td><td>6.256742</td><td>0.001105</td><td>3.472081</td><td>0.33029</td><td>915.202251</td><td>74.03411</td><td>14</td><td>multi</td><td>2019-10-17 00:30:12+0000</td><td>2020-03-10 18:23:41+0000</td></tr>\n",
       "<tr><td>153951307</td><td>1238.02</td><td>PC</td><td>PC</td><td>--</td><td>201.382398</td><td>68.836266</td><td>11.2582</td><td>0.007343</td><td>1684.102793</td><td>0.002224</td><td>0.764601</td><td>6.4e-05</td><td>1.018512</td><td>0.529869</td><td>413.166292</td><td>62.310432</td><td>14 15</td><td>possible L1 candidate in multi system; SNR=7.4</td><td>2019-11-15 23:57:09+0000</td><td>2020-03-05 15:23:56+0000</td></tr>\n",
       "<tr><td>153949511</td><td>1277.02</td><td>PC</td><td>PC</td><td>--</td><td>172.748354</td><td>66.79659</td><td>9.76775</td><td>0.0061</td><td>1692.461947</td><td>0.002386</td><td>37.074384</td><td>0.003175</td><td>3.440095</td><td>0.372104</td><td>1695.545166</td><td>172.03043</td><td>14 15</td><td>Likely single transit; first transit is on a momentum dump</td><td>2019-11-15 23:57:09+0000</td><td>2020-03-05 15:23:56+0000</td></tr>\n",
       "<tr><td>230127302</td><td>1246.03</td><td>PC</td><td>PC</td><td>--</td><td>251.116487</td><td>70.429639</td><td>11.1802</td><td>0.0061</td><td>1683.474666</td><td>0.003598</td><td>5.903194</td><td>0.000474</td><td>2.635619</td><td>0.685317</td><td>906.747897</td><td>96.11431</td><td>14 15 16</td><td>Potential L1 in multi-planet system</td><td>2019-11-15 23:57:09+0000</td><td>2020-03-05 15:06:33+0000</td></tr>\n",
       "<tr><td>269701147</td><td>1339.03</td><td>PC</td><td>PC</td><td>--</td><td>302.023979</td><td>66.850576</td><td>8.293</td><td>0.006</td><td>1743.56691</td><td>0.005509</td><td>--</td><td>--</td><td>10.607919</td><td>0.739647</td><td>357.04176</td><td>34.08945</td><td>15 16</td><td>single transit; first event is spurious</td><td>2019-11-15 23:57:09+0000</td><td>2020-03-05 15:23:56+0000</td></tr>\n",
       "<tr><td>467179528</td><td>1266.02</td><td>PC</td><td>PC</td><td>--</td><td>197.998168</td><td>65.833807</td><td>11.0402</td><td>0.007315</td><td>1689.964649</td><td>0.003226</td><td>18.79545</td><td>0.002552</td><td>1.926873</td><td>0.790569</td><td>1443.836246</td><td>195.72697</td><td>14 15</td><td>part of possible multi-planet system</td><td>2019-11-15 23:57:09+0000</td><td>2020-03-05 15:23:56+0000</td></tr>\n",
       "<tr><td>142276270</td><td>1136.03</td><td>PC</td><td>PC</td><td>--</td><td>192.184889</td><td>64.855319</td><td>8.936</td><td>0.006</td><td>1699.385305</td><td>0.001956</td><td>26.321864</td><td>0.002691</td><td>5.207008</td><td>0.188666</td><td>1596.12862</td><td>103.22011</td><td>14 15</td><td>possible multi</td><td>2019-11-15 23:57:09+0000</td><td>2020-03-05 15:23:56+0000</td></tr>\n",
       "<tr><td>294179385</td><td>1454.01</td><td>PC</td><td>PC</td><td>--</td><td>300.842254</td><td>53.294238</td><td>11.161</td><td>0.006</td><td>1685.47043</td><td>0.00062</td><td>2.67948</td><td>7e-05</td><td>2.854</td><td>0.051</td><td>13000.0</td><td>1.32228</td><td>15</td><td>source of transits in TOI 1310.01</td><td>2019-11-18 17:30:16+0000</td><td>2020-03-05 15:23:56+0000</td></tr>\n",
       "<tr><td>387259626</td><td>1455.01</td><td>EB</td><td>PC</td><td>--</td><td>308.669925</td><td>66.440294</td><td>10.154</td><td>0.006</td><td>1714.39185</td><td>0.00024</td><td>3.62339</td><td>3e-05</td><td>2.586</td><td>0.118</td><td>16260.7</td><td>2.40295</td><td>15 16 17</td><td>Could be large object if on 387259617;  4.8 sigma odd/even; secondary eclipse consistent with a ultrahot Jupiter; large PC; likely EB; TFOP FP</td><td>2019-11-21 21:07:37+0000</td><td>2020-03-05 15:06:33+0000</td></tr>\n",
       "<tr><td>199376584</td><td>1456.01</td><td>PC</td><td>PC</td><td>--</td><td>306.741325</td><td>33.744451</td><td>8.042</td><td>0.006</td><td>1729.678</td><td>0.00428</td><td>12.15601</td><td>0.00151</td><td>5.943</td><td>0.064</td><td>3337.77</td><td>0.275985</td><td>15</td><td>Possible single transit</td><td>2019-11-21 21:28:29+0000</td><td>2020-03-05 15:23:56+0000</td></tr>\n",
       "</table>"
      ],
      "text/plain": [
       "<Table length=1766>\n",
       "   TIC    Full TOI ID ...         Alerted                   Edited         \n",
       "  int64     float64   ...          str24                    str24          \n",
       "--------- ----------- ... ------------------------ ------------------------\n",
       "176860064     1457.01 ... 2019-12-05 16:42:06+0000 2020-03-05 15:23:39+0000\n",
       "236887394     1465.01 ... 2019-12-05 16:42:06+0000 2020-03-10 18:38:41+0000\n",
       "427654774     1474.01 ... 2019-12-05 16:42:06+0000 2020-03-05 15:06:28+0000\n",
       "237086564     1466.01 ... 2019-12-05 16:42:06+0000 2020-03-05 15:23:39+0000\n",
       "240968774     1467.01 ... 2019-12-05 16:42:06+0000 2020-03-05 15:06:28+0000\n",
       "431514478     1475.01 ... 2019-12-05 16:42:06+0000 2020-03-05 15:23:39+0000\n",
       "243185500     1468.01 ... 2019-12-05 16:42:06+0000 2020-03-05 15:23:39+0000\n",
       " 16920150     1459.01 ... 2019-12-05 16:42:06+0000 2020-03-05 15:23:40+0000\n",
       "243185500     1468.02 ... 2019-12-05 16:42:06+0000 2020-03-05 15:23:40+0000\n",
       " 17005768     1460.01 ... 2019-12-05 16:42:06+0000 2020-03-05 15:23:40+0000\n",
       "      ...         ... ...                      ...                      ...\n",
       "142276270     1136.02 ... 2019-10-17 00:30:12+0000 2020-03-10 18:23:41+0000\n",
       "153951307     1238.02 ... 2019-11-15 23:57:09+0000 2020-03-05 15:23:56+0000\n",
       "153949511     1277.02 ... 2019-11-15 23:57:09+0000 2020-03-05 15:23:56+0000\n",
       "230127302     1246.03 ... 2019-11-15 23:57:09+0000 2020-03-05 15:06:33+0000\n",
       "269701147     1339.03 ... 2019-11-15 23:57:09+0000 2020-03-05 15:23:56+0000\n",
       "467179528     1266.02 ... 2019-11-15 23:57:09+0000 2020-03-05 15:23:56+0000\n",
       "142276270     1136.03 ... 2019-11-15 23:57:09+0000 2020-03-05 15:23:56+0000\n",
       "294179385     1454.01 ... 2019-11-18 17:30:16+0000 2020-03-05 15:23:56+0000\n",
       "387259626     1455.01 ... 2019-11-21 21:07:37+0000 2020-03-05 15:06:33+0000\n",
       "199376584     1456.01 ... 2019-11-21 21:28:29+0000 2020-03-05 15:23:56+0000"
      ]
     },
     "execution_count": 8,
     "metadata": {},
     "output_type": "execute_result"
    }
   ],
   "source": [
    "mit_tab = Table.read('TOI_Lists/MIT/csv-file-toi-catalog.csv',comment='#')\n",
    "mit_tab"
   ]
  },
  {
   "cell_type": "markdown",
   "metadata": {},
   "source": [
    "## Create list of TIO/CTIO targets ExoFOP\n",
    "Sectors 1 through 21 are currently available here: https://exofop.ipac.caltech.edu/tess/index.php\n",
    "Last updated 04/02/2020"
   ]
  },
  {
   "cell_type": "code",
   "execution_count": 9,
   "metadata": {},
   "outputs": [
    {
     "data": {
      "text/html": [
       "<i>Table length=1766</i>\n",
       "<table id=\"table139623750040400\" class=\"table-striped table-bordered table-condensed\">\n",
       "<thead><tr><th>TIC ID</th><th>TOI</th><th>Previous CTOI</th><th>Master</th><th>SG1A</th><th>SG1B</th><th>SG2</th><th>SG3</th><th>SG4</th><th>SG5</th><th>ACWG</th><th>TESS Disposition</th><th>TFOPWG Disposition</th><th>TESS Mag</th><th>TESS Mag err</th><th>Planet Name</th><th>Planet Num</th><th>Source</th><th>RA</th><th>Dec</th><th>PM RA (mas/yr)</th><th>PM RA err (mas/yr)</th><th>PM Dec (mas/yr)</th><th>PM Dec err (mas/yr)</th><th>Epoch (BJD)</th><th>Epoch (BJD) err</th><th>Period (days)</th><th>Period (days) err</th><th>Duration (hours)</th><th>Duration (hours) err</th><th>Depth (mmag)</th><th>Depth (mmag) err</th><th>Depth (ppm)</th><th>Depth (ppm) err</th><th>Planet Radius (R_Earth)</th><th>Planet Radius (R_Earth) err</th><th>Planet Insolation (Earth Flux)</th><th>Planet Equil Temp (K)</th><th>Planet SNR</th><th>Stellar Distance (pc)</th><th>Stellar Distance (pc) err</th><th>Stellar Eff Temp (K)</th><th>Stellar Eff Temp (K) err</th><th>Stellar log(g) (cm/s^2)</th><th>Stellar log(g) (cm/s^2) err</th><th>Stellar Radius (R_Sun)</th><th>Stellar Radius (R_Sun) err</th><th>Stellar Metallicity</th><th>Stellar Metallicity err</th><th>Sectors</th><th>Date TOI Alerted (UTC)</th><th>Date TOI Updated (UTC)</th><th>Date Modified</th><th>Comments</th></tr></thead>\n",
       "<thead><tr><th>int64</th><th>float64</th><th>str16</th><th>int64</th><th>int64</th><th>int64</th><th>int64</th><th>int64</th><th>int64</th><th>int64</th><th>int64</th><th>str2</th><th>str2</th><th>float64</th><th>float64</th><th>int64</th><th>int64</th><th>str4</th><th>str11</th><th>str12</th><th>float64</th><th>float64</th><th>float64</th><th>float64</th><th>float64</th><th>float64</th><th>float64</th><th>float64</th><th>float64</th><th>float64</th><th>float64</th><th>float64</th><th>float64</th><th>float64</th><th>float64</th><th>float64</th><th>float64</th><th>float64</th><th>float64</th><th>float64</th><th>float64</th><th>float64</th><th>float64</th><th>float64</th><th>float64</th><th>float64</th><th>float64</th><th>float64</th><th>float64</th><th>str29</th><th>str19</th><th>str19</th><th>str19</th><th>str288</th></tr></thead>\n",
       "<tr><td>231663901</td><td>101.01</td><td>--</td><td>5</td><td>5</td><td>5</td><td>5</td><td>5</td><td>5</td><td>5</td><td>5</td><td>KP</td><td>KP</td><td>12.4069</td><td>0.006</td><td>--</td><td>1</td><td>spoc</td><td>21:14:56.88</td><td>-55:52:18.71</td><td>12.641</td><td>0.044</td><td>-16.011</td><td>0.041</td><td>2458326.008911</td><td>0.000339</td><td>1.430401</td><td>3.2e-05</td><td>1.638765</td><td>0.026081</td><td>22.436283</td><td>0.263814</td><td>20452.53125</td><td>20452.53125</td><td>13.145008</td><td>0.144216</td><td>1193.379517</td><td>1499.044067</td><td>0.887868</td><td>375.31</td><td>4.411</td><td>5600.0</td><td>--</td><td>4.48851</td><td>--</td><td>0.86</td><td>--</td><td>--</td><td>--</td><td>1</td><td>2018-09-05 18:34:18</td><td>2019-12-17 15:43:31</td><td>2020-03-04 13:49:16</td><td>WASP-46 b</td></tr>\n",
       "<tr><td>149603524</td><td>102.01</td><td>--</td><td>5</td><td>5</td><td>5</td><td>5</td><td>5</td><td>5</td><td>5</td><td>5</td><td>KP</td><td>KP</td><td>9.7109</td><td>0.006</td><td>--</td><td>1</td><td>spoc</td><td>05:48:33.56</td><td>-63:59:17.98</td><td>-15.641</td><td>0.037</td><td>26.046</td><td>0.037</td><td>2458326.078613</td><td>9.9e-05</td><td>4.411943</td><td>5e-06</td><td>3.776425</td><td>0.008533</td><td>15.285608</td><td>0.033203</td><td>13979.925781</td><td>13979.925781</td><td>15.397243</td><td>0.032379</td><td>586.130005</td><td>1370.0</td><td>474.380951</td><td>175.631</td><td>0.588</td><td>6280.0</td><td>--</td><td>4.32092</td><td>--</td><td>1.28</td><td>--</td><td>0.24</td><td>0.05</td><td>1,2,3,4,6</td><td>2018-09-05 18:34:18</td><td>2019-12-17 15:43:39</td><td>2020-01-16 02:34:07</td><td>WASP 62b</td></tr>\n",
       "<tr><td>336732616</td><td>103.01</td><td>--</td><td>5</td><td>5</td><td>5</td><td>5</td><td>5</td><td>5</td><td>5</td><td>5</td><td>KP</td><td>KP</td><td>11.5232</td><td>0.008</td><td>--</td><td>1</td><td>spoc</td><td>20:49:49.8</td><td>-24:25:43.3</td><td>10.426</td><td>0.07</td><td>15.62</td><td>0.051</td><td>2458327.252563</td><td>0.000586</td><td>3.547854</td><td>0.000149</td><td>3.494333</td><td>0.049205</td><td>11.377524</td><td>0.133944</td><td>10424.37207</td><td>10424.37207</td><td>14.581841</td><td>0.196435</td><td>1212.004395</td><td>1504.859009</td><td>0.800299</td><td>411.211</td><td>7.752</td><td>6351.0</td><td>--</td><td>4.22896</td><td>--</td><td>1.4</td><td>--</td><td>--</td><td>--</td><td>1</td><td>2018-09-05 18:34:18</td><td>2019-12-17 15:43:31</td><td>2020-01-16 02:34:07</td><td>HATS-3</td></tr>\n",
       "<tr><td>231670397</td><td>104.01</td><td>--</td><td>5</td><td>5</td><td>5</td><td>5</td><td>5</td><td>5</td><td>5</td><td>5</td><td>KP</td><td>KP</td><td>9.8638</td><td>0.006</td><td>--</td><td>1</td><td>spoc</td><td>21:19:47.93</td><td>-58:08:56.16</td><td>10.552</td><td>0.045</td><td>-10.658</td><td>0.043</td><td>2458327.673462</td><td>0.000842</td><td>4.087445</td><td>0.000239</td><td>5.59014</td><td>0.066407</td><td>3.900662</td><td>0.05299</td><td>3586.197021</td><td>3586.197021</td><td>12.652102</td><td>0.221452</td><td>1672.217529</td><td>1630.958618</td><td>0.808662</td><td>316.678</td><td>2.9655</td><td>6036.0</td><td>--</td><td>3.93359</td><td>--</td><td>2.07</td><td>--</td><td>--</td><td>--</td><td>1</td><td>2018-09-05 18:34:18</td><td>2019-12-17 15:43:31</td><td>2020-01-16 02:34:07</td><td>WASP-73</td></tr>\n",
       "<tr><td>144065872</td><td>105.01</td><td>--</td><td>5</td><td>5</td><td>5</td><td>5</td><td>5</td><td>5</td><td>5</td><td>5</td><td>KP</td><td>KP</td><td>9.4995</td><td>0.006</td><td>--</td><td>1</td><td>spoc</td><td>22:29:49.88</td><td>-48:00:11.16</td><td>91.976</td><td>0.052</td><td>-6.861</td><td>0.069</td><td>2458326.505981</td><td>0.000156</td><td>2.184659</td><td>2.3e-05</td><td>2.869426</td><td>0.012752</td><td>12.92819</td><td>0.050966</td><td>11836.691406</td><td>11836.691406</td><td>12.514586</td><td>0.056125</td><td>985.883728</td><td>1429.144653</td><td>0.886027</td><td>137.544</td><td>0.7905</td><td>5630.0</td><td>--</td><td>4.37759</td><td>--</td><td>1.13</td><td>--</td><td>--</td><td>--</td><td>1</td><td>2018-09-05 18:34:19</td><td>2019-12-17 15:43:31</td><td>2020-01-16 02:34:07</td><td>WASP-95</td></tr>\n",
       "<tr><td>38846515</td><td>106.01</td><td>--</td><td>5</td><td>5</td><td>5</td><td>5</td><td>5</td><td>5</td><td>5</td><td>5</td><td>KP</td><td>KP</td><td>10.3157</td><td>0.006</td><td>--</td><td>1</td><td>spoc</td><td>04:35:50.36</td><td>-64:01:37.34</td><td>10.845</td><td>0.035</td><td>-0.499</td><td>0.052</td><td>2458326.745117</td><td>0.000179</td><td>2.84938</td><td>6e-06</td><td>3.776111</td><td>0.01379</td><td>8.121677</td><td>0.02748</td><td>7452.432617</td><td>7452.432617</td><td>9.06138</td><td>0.02705</td><td>1311.385376</td><td>1534.80188</td><td>278.009491</td><td>364.411</td><td>2.729</td><td>6900.0</td><td>--</td><td>4.438</td><td>--</td><td>1.0</td><td>--</td><td>--</td><td>--</td><td>1,2,3,4,5,6</td><td>2018-09-05 18:34:18</td><td>2019-12-17 15:43:31</td><td>2020-01-16 02:34:07</td><td>WASP-100b</td></tr>\n",
       "<tr><td>92352620</td><td>107.01</td><td>--</td><td>5</td><td>5</td><td>5</td><td>5</td><td>5</td><td>5</td><td>5</td><td>5</td><td>KP</td><td>KP</td><td>9.6433</td><td>0.006</td><td>--</td><td>1</td><td>spoc</td><td>20:55:07.98</td><td>-34:08:08.7</td><td>26.376</td><td>0.078</td><td>-44.947</td><td>0.059</td><td>2458328.299316</td><td>0.000307</td><td>3.950054</td><td>8.8e-05</td><td>4.557506</td><td>0.023461</td><td>14.207006</td><td>0.082188</td><td>12999.897461</td><td>12999.897461</td><td>18.775574</td><td>0.097373</td><td>1098.209595</td><td>1468.219727</td><td>0.8602</td><td>211.211</td><td>2.4835</td><td>6153.0</td><td>--</td><td>4.18077</td><td>--</td><td>1.62</td><td>--</td><td>0.22</td><td>0.1</td><td>1</td><td>2018-09-05 18:34:18</td><td>2019-12-17 15:43:31</td><td>2020-01-16 02:34:07</td><td>WASP-94A (planet host)</td></tr>\n",
       "<tr><td>289793076</td><td>108.01</td><td>--</td><td>5</td><td>5</td><td>5</td><td>5</td><td>5</td><td>5</td><td>5</td><td>5</td><td>KP</td><td>KP</td><td>13.163</td><td>0.01</td><td>--</td><td>1</td><td>spoc</td><td>21:07:50.76</td><td>-26:05:48.19</td><td>3.479</td><td>0.063</td><td>-10.313</td><td>0.038</td><td>2458328.084839</td><td>0.000922</td><td>3.043839</td><td>0.000202</td><td>2.660993</td><td>0.073265</td><td>26.534793</td><td>0.619302</td><td>24143.222656</td><td>24143.222656</td><td>13.999502</td><td>0.329885</td><td>400.955292</td><td>1141.284058</td><td>0.820267</td><td>421.855</td><td>8.339</td><td>5523.0</td><td>--</td><td>4.52192</td><td>--</td><td>0.89</td><td>--</td><td>--</td><td>--</td><td>1</td><td>2018-09-05 18:34:19</td><td>2019-12-17 15:43:31</td><td>2020-01-16 02:34:07</td><td>HATS-13</td></tr>\n",
       "<tr><td>29344935</td><td>109.01</td><td>--</td><td>5</td><td>5</td><td>5</td><td>5</td><td>5</td><td>5</td><td>5</td><td>--</td><td>KP</td><td>KP</td><td>13.2366</td><td>0.007</td><td>--</td><td>1</td><td>spoc</td><td>20:52:51.71</td><td>-25:41:14.55</td><td>1.053</td><td>0.052</td><td>-9.881</td><td>0.029</td><td>2458326.127563</td><td>0.001296</td><td>2.766737</td><td>0.000254</td><td>2.568721</td><td>0.112022</td><td>17.172409</td><td>0.532229</td><td>15691.951172</td><td>15691.951172</td><td>11.661768</td><td>0.527223</td><td>--</td><td>--</td><td>0.834164</td><td>513.011</td><td>9.1275</td><td>5346.0</td><td>--</td><td>4.48823</td><td>--</td><td>0.93</td><td>--</td><td>--</td><td>--</td><td>1</td><td>2018-09-05 18:34:19</td><td>2019-12-17 15:43:32</td><td>2020-03-04 13:49:16</td><td>HATS-14</td></tr>\n",
       "<tr><td>281459670</td><td>110.01</td><td>--</td><td>5</td><td>5</td><td>5</td><td>5</td><td>5</td><td>5</td><td>5</td><td>5</td><td>KP</td><td>KP</td><td>11.6714</td><td>0.006</td><td>--</td><td>1</td><td>spoc</td><td>00:22:28.45</td><td>-59:56:33.32</td><td>-22.309</td><td>0.036</td><td>-4.893</td><td>0.034</td><td>2458328.040405</td><td>0.000446</td><td>3.174305</td><td>4.4e-05</td><td>2.723339</td><td>0.030983</td><td>17.075061</td><td>0.164396</td><td>15603.693359</td><td>15603.693359</td><td>13.668801</td><td>0.12625</td><td>662.491028</td><td>1293.941772</td><td>100.352081</td><td>342.14</td><td>2.912</td><td>5943.0</td><td>--</td><td>4.42524</td><td>--</td><td>1.06</td><td>--</td><td>-0.1</td><td>0.1</td><td>1,2</td><td>2018-09-05 18:34:19</td><td>2019-12-17 15:43:32</td><td>2020-01-16 02:34:07</td><td>HATS-30</td></tr>\n",
       "<tr><td>...</td><td>...</td><td>...</td><td>...</td><td>...</td><td>...</td><td>...</td><td>...</td><td>...</td><td>...</td><td>...</td><td>...</td><td>...</td><td>...</td><td>...</td><td>...</td><td>...</td><td>...</td><td>...</td><td>...</td><td>...</td><td>...</td><td>...</td><td>...</td><td>...</td><td>...</td><td>...</td><td>...</td><td>...</td><td>...</td><td>...</td><td>...</td><td>...</td><td>...</td><td>...</td><td>...</td><td>...</td><td>...</td><td>...</td><td>...</td><td>...</td><td>...</td><td>...</td><td>...</td><td>...</td><td>...</td><td>...</td><td>...</td><td>...</td><td>...</td><td>...</td><td>...</td><td>...</td><td>...</td></tr>\n",
       "<tr><td>241196395</td><td>1784.01</td><td>--</td><td>3</td><td>4</td><td>3</td><td>3</td><td>1</td><td>4</td><td>4</td><td>--</td><td>PC</td><td>--</td><td>9.61433</td><td>0.006</td><td>--</td><td>1</td><td>spoc</td><td>10:14:11.92</td><td>29:05:07.89</td><td>-35.035</td><td>0.094</td><td>-10.469</td><td>0.106</td><td>2458871.71008</td><td>0.000673</td><td>2.093578</td><td>0.0001</td><td>0.853</td><td>0.050746</td><td>2.543327</td><td>0.281961</td><td>2339.749224</td><td>2339.749224</td><td>7.197862</td><td>0.739335</td><td>1885.761325</td><td>1680.704763</td><td>15.662501</td><td>171.945</td><td>1.6395</td><td>6435.69</td><td>109.221</td><td>4.3758</td><td>0.083818</td><td>1.22538</td><td>0.050425</td><td>-0.238012</td><td>0.026101</td><td>21</td><td>2020-03-12 15:35:30</td><td>2020-03-12 15:35:30</td><td>2020-03-13 12:00:27</td><td>V-shaped</td></tr>\n",
       "<tr><td>230386259</td><td>1785.01</td><td>--</td><td>3</td><td>4</td><td>3</td><td>3</td><td>1</td><td>4</td><td>4</td><td>--</td><td>PC</td><td>--</td><td>9.6746</td><td>0.007</td><td>--</td><td>1</td><td>qlp</td><td>19:02:54.85</td><td>63:56:55.86</td><td>-3.749</td><td>0.045</td><td>-12.882</td><td>0.047</td><td>2458690.6065</td><td>0.00659</td><td>11.00458</td><td>0.0006</td><td>4.902</td><td>0.426</td><td>0.33663</td><td>0.000745</td><td>310.0</td><td>310.0</td><td>4.78734</td><td>0.344834</td><td>216.521</td><td>1068.0</td><td>12.0</td><td>384.225</td><td>3.58</td><td>6264.0</td><td>192.0</td><td>4.25903</td><td>--</td><td>2.87</td><td>0.13</td><td>--</td><td>--</td><td>20,21</td><td>2020-03-12 14:22:11</td><td>2020-03-12 14:22:11</td><td>2020-03-13 12:00:27</td><td>Odd even at 3.7 sigma</td></tr>\n",
       "<tr><td>86280613</td><td>1786.01</td><td>--</td><td>3</td><td>4</td><td>3</td><td>3</td><td>1</td><td>4</td><td>4</td><td>--</td><td>PC</td><td>--</td><td>9.5173</td><td>0.007</td><td>--</td><td>1</td><td>qlp</td><td>09:26:53.06</td><td>61:41:56.39</td><td>-12.552</td><td>0.045</td><td>-19.926</td><td>0.044</td><td>2458851.5904</td><td>0.00129</td><td>9.5727</td><td>0.00044</td><td>2.507</td><td>0.148</td><td>3.730477</td><td>0.878865</td><td>3430.0</td><td>3430.0</td><td>20.6825</td><td>5.80914</td><td>451.638</td><td>1284.0</td><td>57.0</td><td>248.695</td><td>2.059</td><td>6505.0</td><td>129.6</td><td>4.04</td><td>0.09</td><td>1.83</td><td>0.08</td><td>--</td><td>--</td><td>20,21</td><td>2020-03-12 14:22:11</td><td>2020-03-12 14:22:11</td><td>2020-03-13 12:00:27</td><td>v shaped</td></tr>\n",
       "<tr><td>372730331</td><td>1787.01</td><td>--</td><td>3</td><td>4</td><td>3</td><td>3</td><td>1</td><td>4</td><td>4</td><td>--</td><td>PC</td><td>--</td><td>10.3774</td><td>0.007</td><td>--</td><td>1</td><td>qlp</td><td>10:09:19.31</td><td>39:09:44.68</td><td>14.865</td><td>0.128</td><td>-30.222</td><td>0.15</td><td>2458870.69001</td><td>0.00081</td><td>8.70431</td><td>0.00041</td><td>2.606</td><td>0.114</td><td>8.885006</td><td>0.750225</td><td>8150.0</td><td>8150.0</td><td>26.7486</td><td>5.05532</td><td>332.862</td><td>1189.0</td><td>71.0</td><td>327.863</td><td>11.5545</td><td>6427.0</td><td>130.1</td><td>4.11</td><td>0.09</td><td>1.67</td><td>0.1</td><td>--</td><td>--</td><td>21</td><td>2020-03-12 14:22:11</td><td>2020-03-12 14:22:11</td><td>2020-03-13 12:00:27</td><td>large; v-shaped; likely EB</td></tr>\n",
       "<tr><td>450327768</td><td>1788.01</td><td>--</td><td>3</td><td>4</td><td>3</td><td>3</td><td>1</td><td>4</td><td>4</td><td>--</td><td>PC</td><td>--</td><td>10.1883</td><td>0.007</td><td>--</td><td>1</td><td>qlp</td><td>10:40:55.01</td><td>35:54:48.07</td><td>-48.379</td><td>0.082</td><td>-72.308</td><td>0.073</td><td>2458875.04671</td><td>0.00069</td><td>5.34326</td><td>0.00028</td><td>1.426</td><td>0.096</td><td>7.605011</td><td>0.003726</td><td>6980.0</td><td>6980.0</td><td>10.4171</td><td>0.594114</td><td>52.9343</td><td>751.0</td><td>70.0</td><td>191.532</td><td>2.375</td><td>5776.0</td><td>131.0</td><td>4.25</td><td>0.08</td><td>1.26</td><td>0.06</td><td>--</td><td>--</td><td>21</td><td>2020-03-12 14:22:11</td><td>2020-03-12 14:22:11</td><td>2020-03-13 12:00:27</td><td>--</td></tr>\n",
       "<tr><td>172518755</td><td>1789.01</td><td>--</td><td>3</td><td>4</td><td>3</td><td>3</td><td>1</td><td>4</td><td>4</td><td>--</td><td>PC</td><td>--</td><td>9.1824</td><td>0.006</td><td>--</td><td>1</td><td>qlp</td><td>09:30:58.42</td><td>26:32:23.98</td><td>-7.999</td><td>0.073</td><td>-39.545</td><td>0.064</td><td>2458873.65344</td><td>0.0011</td><td>3.20875</td><td>0.00027</td><td>2.189</td><td>0.16</td><td>2.88102</td><td>0.503082</td><td>2650.0</td><td>2650.0</td><td>19.8795</td><td>5.41031</td><td>2362.05</td><td>1942.0</td><td>42.0</td><td>229.067</td><td>2.364</td><td>5971.4</td><td>110.4</td><td>3.77</td><td>0.07</td><td>2.26</td><td>0.1</td><td>0.316</td><td>0.035</td><td>21</td><td>2020-03-12 14:22:11</td><td>2020-03-12 14:22:11</td><td>2020-03-13 12:00:27</td><td>v-shaped; large; some centroid offset</td></tr>\n",
       "<tr><td>310981412</td><td>1790.01</td><td>--</td><td>2</td><td>4</td><td>2</td><td>2</td><td>1</td><td>4</td><td>4</td><td>--</td><td>PC</td><td>--</td><td>10.2728</td><td>0.006</td><td>--</td><td>1</td><td>qlp</td><td>10:45:42.67</td><td>69:12:02.81</td><td>-23.372</td><td>0.037</td><td>-1.811</td><td>0.048</td><td>2458684.16048</td><td>0.00806</td><td>9.62517</td><td>0.00067</td><td>3.725</td><td>0.786</td><td>0.586456</td><td>0.00266</td><td>540.0</td><td>540.0</td><td>2.03371</td><td>0.184439</td><td>170.739</td><td>1007.0</td><td>9.0</td><td>164.178</td><td>0.641</td><td>6149.0</td><td>129.6</td><td>4.57</td><td>0.08</td><td>0.93</td><td>0.04</td><td>--</td><td>--</td><td>14,20,21</td><td>2020-03-12 14:22:11</td><td>2020-03-12 14:22:11</td><td>2020-03-13 12:00:27</td><td>2.3 sigma odd-even</td></tr>\n",
       "<tr><td>233684293</td><td>1791.01</td><td>--</td><td>3</td><td>4</td><td>3</td><td>3</td><td>1</td><td>4</td><td>4</td><td>--</td><td>PC</td><td>--</td><td>9.05769</td><td>0.006</td><td>--</td><td>1</td><td>qlp</td><td>17:23:03.09</td><td>63:06:38.67</td><td>-20.567</td><td>0.05</td><td>-6.634</td><td>0.051</td><td>2458688.99753</td><td>0.01624</td><td>48.47912</td><td>0.00561</td><td>8.088</td><td>0.75</td><td>0.347491</td><td>0.001044</td><td>320.0</td><td>320.0</td><td>4.43282</td><td>0.334466</td><td>29.9208</td><td>651.0</td><td>9.0</td><td>247.435</td><td>1.5055</td><td>6153.0</td><td>132.1</td><td>3.72</td><td>0.08</td><td>2.47</td><td>0.11</td><td>--</td><td>--</td><td>21</td><td>2020-03-12 14:22:11</td><td>2020-03-12 14:22:11</td><td>2020-03-13 12:00:27</td><td>only 4 transits; possibly stellar variability</td></tr>\n",
       "<tr><td>29191596</td><td>1792.01</td><td>--</td><td>3</td><td>4</td><td>3</td><td>4</td><td>1</td><td>4</td><td>4</td><td>--</td><td>PC</td><td>--</td><td>8.676</td><td>0.006</td><td>--</td><td>1</td><td>qlp</td><td>10:06:52.81</td><td>45:52:59.98</td><td>-123.738</td><td>0.063</td><td>-49.059</td><td>0.055</td><td>2458871.16344</td><td>0.01298</td><td>8.81866</td><td>0.00644</td><td>6.249</td><td>1.087</td><td>0.456105</td><td>0.178698</td><td>420.0</td><td>420.0</td><td>3.66576</td><td>1.40669</td><td>4703.93</td><td>2307.0</td><td>11.0</td><td>69.3223</td><td>0.24525</td><td>5502.5</td><td>112.2</td><td>4.43</td><td>0.07</td><td>0.99</td><td>0.05</td><td>0.120465</td><td>0.0124072</td><td>21</td><td>2020-03-12 15:27:12</td><td>2020-03-12 15:27:12</td><td>2020-03-13 12:00:27</td><td>multiple stars in target pixel; potential centroid offset; low SNR</td></tr>\n",
       "<tr><td>304142124</td><td>1793.01</td><td>TIC 304142124.01</td><td>3</td><td>4</td><td>3</td><td>3</td><td>2</td><td>4</td><td>4</td><td>--</td><td>PC</td><td>--</td><td>7.8436</td><td>0.006</td><td>--</td><td>1</td><td>qlp</td><td>10:59:25.52</td><td>-56:37:24.8</td><td>-416.88</td><td>0.083</td><td>-119.71</td><td>0.075</td><td>2458585.25532</td><td>0.00135</td><td>0.0</td><td>0.0</td><td>4.276</td><td>0.245</td><td>2.069995</td><td>0.000515</td><td>1904.72</td><td>1904.72</td><td>4.15414</td><td>0.100413</td><td>45.3103</td><td>722.0</td><td>45.0</td><td>36.9941</td><td>0.0688</td><td>5175.0</td><td>51.9</td><td>4.51</td><td>0.04</td><td>0.87</td><td>0.02</td><td>0.207904</td><td>0.0396491</td><td>10</td><td>2020-03-16 09:31:24</td><td>2020-03-16 09:31:24</td><td>2020-03-27 12:00:19</td><td>single transit event</td></tr>\n",
       "</table>"
      ],
      "text/plain": [
       "<Table length=1766>\n",
       "  TIC ID  ...                              Comments                             \n",
       "  int64   ...                               str288                              \n",
       "--------- ... ------------------------------------------------------------------\n",
       "231663901 ...                                                          WASP-46 b\n",
       "149603524 ...                                                           WASP 62b\n",
       "336732616 ...                                                             HATS-3\n",
       "231670397 ...                                                            WASP-73\n",
       "144065872 ...                                                            WASP-95\n",
       " 38846515 ...                                                          WASP-100b\n",
       " 92352620 ...                                             WASP-94A (planet host)\n",
       "289793076 ...                                                            HATS-13\n",
       " 29344935 ...                                                            HATS-14\n",
       "281459670 ...                                                            HATS-30\n",
       "      ... ...                                                                ...\n",
       "241196395 ...                                                           V-shaped\n",
       "230386259 ...                                              Odd even at 3.7 sigma\n",
       " 86280613 ...                                                           v shaped\n",
       "372730331 ...                                         large; v-shaped; likely EB\n",
       "450327768 ...                                                                 --\n",
       "172518755 ...                              v-shaped; large; some centroid offset\n",
       "310981412 ...                                                 2.3 sigma odd-even\n",
       "233684293 ...                      only 4 transits; possibly stellar variability\n",
       " 29191596 ... multiple stars in target pixel; potential centroid offset; low SNR\n",
       "304142124 ...                                               single transit event"
      ]
     },
     "execution_count": 9,
     "metadata": {},
     "output_type": "execute_result"
    }
   ],
   "source": [
    "exo_tio_tab = Table.read('TOI_Lists/ExoFOP/exofop_toilists.csv')\n",
    "exo_tio_tab"
   ]
  },
  {
   "cell_type": "code",
   "execution_count": 10,
   "metadata": {},
   "outputs": [
    {
     "data": {
      "text/html": [
       "<i>Table length=437</i>\n",
       "<table id=\"table139623749492048\" class=\"table-striped table-bordered table-condensed\">\n",
       "<thead><tr><th>TIC ID</th><th>CTOI</th><th>MASTER</th><th>SG1A</th><th>SG1B</th><th>SG2</th><th>SG3</th><th>SG4</th><th>SG5</th><th>User Disposition</th><th>TFOPWG Disposition</th><th>TESS Mag</th><th>TESS Mag err</th></tr></thead>\n",
       "<thead><tr><th>int64</th><th>float64</th><th>int64</th><th>int64</th><th>int64</th><th>int64</th><th>int64</th><th>int64</th><th>int64</th><th>str2</th><th>str2</th><th>float64</th><th>float64</th></tr></thead>\n",
       "<tr><td>7422496</td><td>7422496.01</td><td>--</td><td>--</td><td>--</td><td>--</td><td>--</td><td>--</td><td>--</td><td>PC</td><td>--</td><td>8.7601</td><td>0.006</td></tr>\n",
       "<tr><td>8963901</td><td>8963901.01</td><td>--</td><td>--</td><td>--</td><td>--</td><td>--</td><td>--</td><td>--</td><td>PC</td><td>--</td><td>11.2163</td><td>0.015</td></tr>\n",
       "<tr><td>10747470</td><td>10747470.01</td><td>--</td><td>--</td><td>--</td><td>--</td><td>--</td><td>--</td><td>--</td><td>PC</td><td>--</td><td>9.72577</td><td>0.006</td></tr>\n",
       "<tr><td>24725031</td><td>24725031.01</td><td>--</td><td>--</td><td>--</td><td>--</td><td>--</td><td>--</td><td>--</td><td>FP</td><td>--</td><td>7.35422</td><td>0.006</td></tr>\n",
       "<tr><td>25078924</td><td>25078924.01</td><td>--</td><td>--</td><td>--</td><td>--</td><td>--</td><td>--</td><td>--</td><td>PC</td><td>--</td><td>10.705</td><td>0.006</td></tr>\n",
       "<tr><td>25078924</td><td>25078924.02</td><td>--</td><td>--</td><td>--</td><td>--</td><td>--</td><td>--</td><td>--</td><td>PC</td><td>--</td><td>10.705</td><td>0.006</td></tr>\n",
       "<tr><td>25226885</td><td>25226885.01</td><td>--</td><td>--</td><td>--</td><td>--</td><td>--</td><td>--</td><td>--</td><td>PC</td><td>--</td><td>11.9329</td><td>0.007</td></tr>\n",
       "<tr><td>25226885</td><td>25226885.02</td><td>--</td><td>--</td><td>--</td><td>--</td><td>--</td><td>--</td><td>--</td><td>PC</td><td>--</td><td>11.9329</td><td>0.007</td></tr>\n",
       "<tr><td>25314899</td><td>25314899.01</td><td>--</td><td>--</td><td>--</td><td>--</td><td>--</td><td>--</td><td>--</td><td>PC</td><td>--</td><td>10.8452</td><td>0.006</td></tr>\n",
       "<tr><td>25758307</td><td>25758307.01</td><td>--</td><td>--</td><td>--</td><td>--</td><td>--</td><td>--</td><td>--</td><td>PC</td><td>--</td><td>10.9677</td><td>0.007</td></tr>\n",
       "<tr><td>...</td><td>...</td><td>...</td><td>...</td><td>...</td><td>...</td><td>...</td><td>...</td><td>...</td><td>...</td><td>...</td><td>...</td><td>...</td></tr>\n",
       "<tr><td>444222135</td><td>444222135.01</td><td>--</td><td>--</td><td>--</td><td>--</td><td>--</td><td>--</td><td>--</td><td>PC</td><td>--</td><td>12.5494</td><td>0.006</td></tr>\n",
       "<tr><td>455737331</td><td>455737331.01</td><td>--</td><td>--</td><td>--</td><td>--</td><td>--</td><td>--</td><td>--</td><td>PC</td><td>--</td><td>9.51477</td><td>0.006</td></tr>\n",
       "<tr><td>459997997</td><td>459997997.01</td><td>--</td><td>--</td><td>--</td><td>--</td><td>--</td><td>--</td><td>--</td><td>PC</td><td>--</td><td>10.4748</td><td>0.006</td></tr>\n",
       "<tr><td>460024410</td><td>460024410.01</td><td>--</td><td>--</td><td>--</td><td>--</td><td>--</td><td>--</td><td>--</td><td>PC</td><td>--</td><td>13.2623</td><td>0.006</td></tr>\n",
       "<tr><td>462162963</td><td>462162963.01</td><td>--</td><td>--</td><td>--</td><td>--</td><td>--</td><td>--</td><td>--</td><td>PC</td><td>--</td><td>12.3935</td><td>0.009</td></tr>\n",
       "<tr><td>463903016</td><td>463903016.01</td><td>--</td><td>--</td><td>--</td><td>--</td><td>--</td><td>--</td><td>--</td><td>PC</td><td>--</td><td>15.8332</td><td>0.008</td></tr>\n",
       "<tr><td>467522800</td><td>467522800.01</td><td>--</td><td>--</td><td>--</td><td>--</td><td>--</td><td>--</td><td>--</td><td>PC</td><td>--</td><td>13.9784</td><td>0.007</td></tr>\n",
       "<tr><td>853388144</td><td>853388144.01</td><td>--</td><td>--</td><td>--</td><td>--</td><td>--</td><td>--</td><td>--</td><td>PC</td><td>--</td><td>15.1208</td><td>0.031</td></tr>\n",
       "<tr><td>859480036</td><td>859480036.01</td><td>--</td><td>--</td><td>--</td><td>--</td><td>--</td><td>--</td><td>--</td><td>PC</td><td>--</td><td>12.5082</td><td>0.014</td></tr>\n",
       "<tr><td>1030389830</td><td>1030389830.01</td><td>--</td><td>--</td><td>--</td><td>--</td><td>--</td><td>--</td><td>--</td><td>PC</td><td>--</td><td>14.8192</td><td>0.008</td></tr>\n",
       "</table>"
      ],
      "text/plain": [
       "<Table length=437>\n",
       "  TIC ID        CTOI     MASTER ... TFOPWG Disposition TESS Mag TESS Mag err\n",
       "  int64       float64    int64  ...        str2        float64    float64   \n",
       "---------- ------------- ------ ... ------------------ -------- ------------\n",
       "   7422496    7422496.01     -- ...                 --   8.7601        0.006\n",
       "   8963901    8963901.01     -- ...                 --  11.2163        0.015\n",
       "  10747470   10747470.01     -- ...                 --  9.72577        0.006\n",
       "  24725031   24725031.01     -- ...                 --  7.35422        0.006\n",
       "  25078924   25078924.01     -- ...                 --   10.705        0.006\n",
       "  25078924   25078924.02     -- ...                 --   10.705        0.006\n",
       "  25226885   25226885.01     -- ...                 --  11.9329        0.007\n",
       "  25226885   25226885.02     -- ...                 --  11.9329        0.007\n",
       "  25314899   25314899.01     -- ...                 --  10.8452        0.006\n",
       "  25758307   25758307.01     -- ...                 --  10.9677        0.007\n",
       "       ...           ...    ... ...                ...      ...          ...\n",
       " 444222135  444222135.01     -- ...                 --  12.5494        0.006\n",
       " 455737331  455737331.01     -- ...                 --  9.51477        0.006\n",
       " 459997997  459997997.01     -- ...                 --  10.4748        0.006\n",
       " 460024410  460024410.01     -- ...                 --  13.2623        0.006\n",
       " 462162963  462162963.01     -- ...                 --  12.3935        0.009\n",
       " 463903016  463903016.01     -- ...                 --  15.8332        0.008\n",
       " 467522800  467522800.01     -- ...                 --  13.9784        0.007\n",
       " 853388144  853388144.01     -- ...                 --  15.1208        0.031\n",
       " 859480036  859480036.01     -- ...                 --  12.5082        0.014\n",
       "1030389830 1030389830.01     -- ...                 --  14.8192        0.008"
      ]
     },
     "execution_count": 10,
     "metadata": {},
     "output_type": "execute_result"
    }
   ],
   "source": [
    "exo_ctio_tab = Table.read('TOI_Lists/ExoFOP/ctoi_small.csv')\n",
    "exo_ctio_tab"
   ]
  },
  {
   "cell_type": "markdown",
   "metadata": {},
   "source": [
    "## Make Catalog"
   ]
  },
  {
   "cell_type": "code",
   "execution_count": 11,
   "metadata": {},
   "outputs": [],
   "source": [
    "cat_tab = Table()"
   ]
  },
  {
   "cell_type": "code",
   "execution_count": 12,
   "metadata": {},
   "outputs": [
    {
     "data": {
      "text/html": [
       "<i>Table length=222345</i>\n",
       "<table id=\"table139623754220944\" class=\"table-striped table-bordered table-condensed\">\n",
       "<thead><tr><th>TICID</th><th>Target_Type</th></tr></thead>\n",
       "<thead><tr><th>int64</th><th>str8</th></tr></thead>\n",
       "<tr><td>1078</td><td>2min</td></tr>\n",
       "<tr><td>1275</td><td>2min</td></tr>\n",
       "<tr><td>1307</td><td>2min</td></tr>\n",
       "<tr><td>1454</td><td>2min</td></tr>\n",
       "<tr><td>1608</td><td>2min</td></tr>\n",
       "<tr><td>2042</td><td>2min</td></tr>\n",
       "<tr><td>2497</td><td>2min</td></tr>\n",
       "<tr><td>3709</td><td>2min</td></tr>\n",
       "<tr><td>8610</td><td>2min</td></tr>\n",
       "<tr><td>8842</td><td>2min</td></tr>\n",
       "<tr><td>...</td><td>...</td></tr>\n",
       "<tr><td>444222135</td><td>exo_CTOI</td></tr>\n",
       "<tr><td>455737331</td><td>exo_CTOI</td></tr>\n",
       "<tr><td>459997997</td><td>exo_CTOI</td></tr>\n",
       "<tr><td>460024410</td><td>exo_CTOI</td></tr>\n",
       "<tr><td>462162963</td><td>exo_CTOI</td></tr>\n",
       "<tr><td>463903016</td><td>exo_CTOI</td></tr>\n",
       "<tr><td>467522800</td><td>exo_CTOI</td></tr>\n",
       "<tr><td>853388144</td><td>exo_CTOI</td></tr>\n",
       "<tr><td>859480036</td><td>exo_CTOI</td></tr>\n",
       "<tr><td>1030389830</td><td>exo_CTOI</td></tr>\n",
       "</table>"
      ],
      "text/plain": [
       "<Table length=222345>\n",
       "  TICID    Target_Type\n",
       "  int64        str8   \n",
       "---------- -----------\n",
       "      1078        2min\n",
       "      1275        2min\n",
       "      1307        2min\n",
       "      1454        2min\n",
       "      1608        2min\n",
       "      2042        2min\n",
       "      2497        2min\n",
       "      3709        2min\n",
       "      8610        2min\n",
       "      8842        2min\n",
       "       ...         ...\n",
       " 444222135    exo_CTOI\n",
       " 455737331    exo_CTOI\n",
       " 459997997    exo_CTOI\n",
       " 460024410    exo_CTOI\n",
       " 462162963    exo_CTOI\n",
       " 463903016    exo_CTOI\n",
       " 467522800    exo_CTOI\n",
       " 853388144    exo_CTOI\n",
       " 859480036    exo_CTOI\n",
       "1030389830    exo_CTOI"
      ]
     },
     "execution_count": 12,
     "metadata": {},
     "output_type": "execute_result"
    }
   ],
   "source": [
    "cat_tab[\"TICID\"]  = np.array(list(twomin_tab['TICID'])+list(exo_tio_tab['TIC ID'])+list(exo_ctio_tab['TIC ID']))\n",
    "cat_tab[\"Target_Type\"]  = np.concatenate([np.repeat('2min',len(twomin_tab)),np.repeat('exo_TOI',len(exo_tio_tab)), \n",
    "                                          np.repeat('exo_CTOI',len(exo_ctio_tab))])\n",
    "cat_tab"
   ]
  },
  {
   "cell_type": "code",
   "execution_count": 13,
   "metadata": {},
   "outputs": [
    {
     "data": {
      "text/html": [
       "<i>Table length=2</i>\n",
       "<table id=\"table139623749492240\" class=\"table-striped table-bordered table-condensed\">\n",
       "<thead><tr><th>TICID</th><th>Target_Type</th><th>TOI</th><th>TESS Disposition</th><th>TFOPWG Disposition</th></tr></thead>\n",
       "<thead><tr><th>int64</th><th>str8</th><th>str32</th><th>str2</th><th>str2</th></tr></thead>\n",
       "<tr><td>336732616</td><td>2min</td><td></td><td></td><td></td></tr>\n",
       "<tr><td>336732616</td><td>exo_TOI</td><td>103.01</td><td>KP</td><td>KP</td></tr>\n",
       "</table>"
      ],
      "text/plain": [
       "<Table length=2>\n",
       "  TICID   Target_Type  TOI   TESS Disposition TFOPWG Disposition\n",
       "  int64       str8    str32        str2              str2       \n",
       "--------- ----------- ------ ---------------- ------------------\n",
       "336732616        2min                                           \n",
       "336732616     exo_TOI 103.01               KP                 KP"
      ]
     },
     "execution_count": 13,
     "metadata": {},
     "output_type": "execute_result"
    }
   ],
   "source": [
    "cat_tab[\"TOI\"]  = np.concatenate([np.repeat('',len(twomin_tab)),exo_tio_tab['TOI'], \n",
    "                                          np.repeat('',len(exo_ctio_tab))])\n",
    "cat_tab[\"TESS Disposition\"]  = np.concatenate([np.repeat('',len(twomin_tab)),exo_tio_tab['TESS Disposition'], \n",
    "                                          np.repeat('',len(exo_ctio_tab))])\n",
    "cat_tab[\"TFOPWG Disposition\"]  = np.concatenate([np.repeat('',len(twomin_tab)),exo_tio_tab['TFOPWG Disposition'], \n",
    "                                          exo_ctio_tab['TFOPWG Disposition']])\n",
    "cat_tab[(cat_tab['TICID'] == 336732616)]"
   ]
  },
  {
   "cell_type": "code",
   "execution_count": 14,
   "metadata": {},
   "outputs": [
    {
     "data": {
      "text/html": [
       "<i>Table length=222345</i>\n",
       "<table id=\"table139623754220944\" class=\"table-striped table-bordered table-condensed\">\n",
       "<thead><tr><th>TICID</th><th>Target_Type</th><th>TOI</th><th>TESS Disposition</th><th>TFOPWG Disposition</th><th>CTOI</th><th>User Disposition</th></tr></thead>\n",
       "<thead><tr><th>int64</th><th>str8</th><th>str32</th><th>str2</th><th>str2</th><th>str32</th><th>str2</th></tr></thead>\n",
       "<tr><td>1078</td><td>2min</td><td></td><td></td><td></td><td></td><td></td></tr>\n",
       "<tr><td>1275</td><td>2min</td><td></td><td></td><td></td><td></td><td></td></tr>\n",
       "<tr><td>1307</td><td>2min</td><td></td><td></td><td></td><td></td><td></td></tr>\n",
       "<tr><td>1454</td><td>2min</td><td></td><td></td><td></td><td></td><td></td></tr>\n",
       "<tr><td>1608</td><td>2min</td><td></td><td></td><td></td><td></td><td></td></tr>\n",
       "<tr><td>2042</td><td>2min</td><td></td><td></td><td></td><td></td><td></td></tr>\n",
       "<tr><td>2497</td><td>2min</td><td></td><td></td><td></td><td></td><td></td></tr>\n",
       "<tr><td>3709</td><td>2min</td><td></td><td></td><td></td><td></td><td></td></tr>\n",
       "<tr><td>8610</td><td>2min</td><td></td><td></td><td></td><td></td><td></td></tr>\n",
       "<tr><td>8842</td><td>2min</td><td></td><td></td><td></td><td></td><td></td></tr>\n",
       "<tr><td>...</td><td>...</td><td>...</td><td>...</td><td>...</td><td>...</td><td>...</td></tr>\n",
       "<tr><td>444222135</td><td>exo_CTOI</td><td></td><td></td><td>0</td><td>444222135.01</td><td>PC</td></tr>\n",
       "<tr><td>455737331</td><td>exo_CTOI</td><td></td><td></td><td>0</td><td>455737331.01</td><td>PC</td></tr>\n",
       "<tr><td>459997997</td><td>exo_CTOI</td><td></td><td></td><td>0</td><td>459997997.01</td><td>PC</td></tr>\n",
       "<tr><td>460024410</td><td>exo_CTOI</td><td></td><td></td><td>0</td><td>460024410.01</td><td>PC</td></tr>\n",
       "<tr><td>462162963</td><td>exo_CTOI</td><td></td><td></td><td>0</td><td>462162963.01</td><td>PC</td></tr>\n",
       "<tr><td>463903016</td><td>exo_CTOI</td><td></td><td></td><td>0</td><td>463903016.01</td><td>PC</td></tr>\n",
       "<tr><td>467522800</td><td>exo_CTOI</td><td></td><td></td><td>0</td><td>467522800.01</td><td>PC</td></tr>\n",
       "<tr><td>853388144</td><td>exo_CTOI</td><td></td><td></td><td>0</td><td>853388144.01</td><td>PC</td></tr>\n",
       "<tr><td>859480036</td><td>exo_CTOI</td><td></td><td></td><td>0</td><td>859480036.01</td><td>PC</td></tr>\n",
       "<tr><td>1030389830</td><td>exo_CTOI</td><td></td><td></td><td>0</td><td>1030389830.01</td><td>PC</td></tr>\n",
       "</table>"
      ],
      "text/plain": [
       "<Table length=222345>\n",
       "  TICID    Target_Type  TOI  ...      CTOI     User Disposition\n",
       "  int64        str8    str32 ...     str32           str2      \n",
       "---------- ----------- ----- ... ------------- ----------------\n",
       "      1078        2min       ...                               \n",
       "      1275        2min       ...                               \n",
       "      1307        2min       ...                               \n",
       "      1454        2min       ...                               \n",
       "      1608        2min       ...                               \n",
       "      2042        2min       ...                               \n",
       "      2497        2min       ...                               \n",
       "      3709        2min       ...                               \n",
       "      8610        2min       ...                               \n",
       "      8842        2min       ...                               \n",
       "       ...         ...   ... ...           ...              ...\n",
       " 444222135    exo_CTOI       ...  444222135.01               PC\n",
       " 455737331    exo_CTOI       ...  455737331.01               PC\n",
       " 459997997    exo_CTOI       ...  459997997.01               PC\n",
       " 460024410    exo_CTOI       ...  460024410.01               PC\n",
       " 462162963    exo_CTOI       ...  462162963.01               PC\n",
       " 463903016    exo_CTOI       ...  463903016.01               PC\n",
       " 467522800    exo_CTOI       ...  467522800.01               PC\n",
       " 853388144    exo_CTOI       ...  853388144.01               PC\n",
       " 859480036    exo_CTOI       ...  859480036.01               PC\n",
       "1030389830    exo_CTOI       ... 1030389830.01               PC"
      ]
     },
     "execution_count": 14,
     "metadata": {},
     "output_type": "execute_result"
    }
   ],
   "source": [
    "cat_tab[\"CTOI\"]  = np.concatenate([np.repeat('',len(twomin_tab)),np.repeat('',len(exo_tio_tab)), \n",
    "                                          exo_ctio_tab['CTOI']])\n",
    "cat_tab[\"User Disposition\"]  = np.concatenate([np.repeat('',len(twomin_tab)),np.repeat('',len(exo_tio_tab)), \n",
    "                                          exo_ctio_tab['User Disposition']])\n",
    "cat_tab"
   ]
  },
  {
   "cell_type": "code",
   "execution_count": 15,
   "metadata": {},
   "outputs": [
    {
     "data": {
      "text/html": [
       "<i>Table length=222345</i>\n",
       "<table id=\"table139623754220944\" class=\"table-striped table-bordered table-condensed\">\n",
       "<thead><tr><th>TICID</th><th>Target_Type</th><th>TOI</th><th>TESS Disposition</th><th>TFOPWG Disposition</th><th>CTOI</th><th>User Disposition</th><th>Num_Sectors</th></tr></thead>\n",
       "<thead><tr><th>int64</th><th>str8</th><th>str32</th><th>str2</th><th>str2</th><th>str32</th><th>str2</th><th>float64</th></tr></thead>\n",
       "<tr><td>1078</td><td>2min</td><td></td><td></td><td></td><td></td><td></td><td>1.0</td></tr>\n",
       "<tr><td>1275</td><td>2min</td><td></td><td></td><td></td><td></td><td></td><td>1.0</td></tr>\n",
       "<tr><td>1307</td><td>2min</td><td></td><td></td><td></td><td></td><td></td><td>1.0</td></tr>\n",
       "<tr><td>1454</td><td>2min</td><td></td><td></td><td></td><td></td><td></td><td>1.0</td></tr>\n",
       "<tr><td>1608</td><td>2min</td><td></td><td></td><td></td><td></td><td></td><td>1.0</td></tr>\n",
       "<tr><td>2042</td><td>2min</td><td></td><td></td><td></td><td></td><td></td><td>1.0</td></tr>\n",
       "<tr><td>2497</td><td>2min</td><td></td><td></td><td></td><td></td><td></td><td>1.0</td></tr>\n",
       "<tr><td>3709</td><td>2min</td><td></td><td></td><td></td><td></td><td></td><td>1.0</td></tr>\n",
       "<tr><td>8610</td><td>2min</td><td></td><td></td><td></td><td></td><td></td><td>1.0</td></tr>\n",
       "<tr><td>8842</td><td>2min</td><td></td><td></td><td></td><td></td><td></td><td>1.0</td></tr>\n",
       "<tr><td>...</td><td>...</td><td>...</td><td>...</td><td>...</td><td>...</td><td>...</td><td>...</td></tr>\n",
       "<tr><td>444222135</td><td>exo_CTOI</td><td></td><td></td><td>0</td><td>444222135.01</td><td>PC</td><td>nan</td></tr>\n",
       "<tr><td>455737331</td><td>exo_CTOI</td><td></td><td></td><td>0</td><td>455737331.01</td><td>PC</td><td>nan</td></tr>\n",
       "<tr><td>459997997</td><td>exo_CTOI</td><td></td><td></td><td>0</td><td>459997997.01</td><td>PC</td><td>nan</td></tr>\n",
       "<tr><td>460024410</td><td>exo_CTOI</td><td></td><td></td><td>0</td><td>460024410.01</td><td>PC</td><td>nan</td></tr>\n",
       "<tr><td>462162963</td><td>exo_CTOI</td><td></td><td></td><td>0</td><td>462162963.01</td><td>PC</td><td>nan</td></tr>\n",
       "<tr><td>463903016</td><td>exo_CTOI</td><td></td><td></td><td>0</td><td>463903016.01</td><td>PC</td><td>nan</td></tr>\n",
       "<tr><td>467522800</td><td>exo_CTOI</td><td></td><td></td><td>0</td><td>467522800.01</td><td>PC</td><td>nan</td></tr>\n",
       "<tr><td>853388144</td><td>exo_CTOI</td><td></td><td></td><td>0</td><td>853388144.01</td><td>PC</td><td>nan</td></tr>\n",
       "<tr><td>859480036</td><td>exo_CTOI</td><td></td><td></td><td>0</td><td>859480036.01</td><td>PC</td><td>nan</td></tr>\n",
       "<tr><td>1030389830</td><td>exo_CTOI</td><td></td><td></td><td>0</td><td>1030389830.01</td><td>PC</td><td>nan</td></tr>\n",
       "</table>"
      ],
      "text/plain": [
       "<Table length=222345>\n",
       "  TICID    Target_Type  TOI  ...      CTOI     User Disposition Num_Sectors\n",
       "  int64        str8    str32 ...     str32           str2         float64  \n",
       "---------- ----------- ----- ... ------------- ---------------- -----------\n",
       "      1078        2min       ...                                        1.0\n",
       "      1275        2min       ...                                        1.0\n",
       "      1307        2min       ...                                        1.0\n",
       "      1454        2min       ...                                        1.0\n",
       "      1608        2min       ...                                        1.0\n",
       "      2042        2min       ...                                        1.0\n",
       "      2497        2min       ...                                        1.0\n",
       "      3709        2min       ...                                        1.0\n",
       "      8610        2min       ...                                        1.0\n",
       "      8842        2min       ...                                        1.0\n",
       "       ...         ...   ... ...           ...              ...         ...\n",
       " 444222135    exo_CTOI       ...  444222135.01               PC         nan\n",
       " 455737331    exo_CTOI       ...  455737331.01               PC         nan\n",
       " 459997997    exo_CTOI       ...  459997997.01               PC         nan\n",
       " 460024410    exo_CTOI       ...  460024410.01               PC         nan\n",
       " 462162963    exo_CTOI       ...  462162963.01               PC         nan\n",
       " 463903016    exo_CTOI       ...  463903016.01               PC         nan\n",
       " 467522800    exo_CTOI       ...  467522800.01               PC         nan\n",
       " 853388144    exo_CTOI       ...  853388144.01               PC         nan\n",
       " 859480036    exo_CTOI       ...  859480036.01               PC         nan\n",
       "1030389830    exo_CTOI       ... 1030389830.01               PC         nan"
      ]
     },
     "execution_count": 15,
     "metadata": {},
     "output_type": "execute_result"
    }
   ],
   "source": [
    "cat_tab[\"Num_Sectors\"]  = np.concatenate([twomin_tab['Num_Sectors'],np.repeat(np.nan,len(exo_tio_tab)), \n",
    "                                          np.repeat(np.nan,len(exo_ctio_tab))])\n",
    "cat_tab"
   ]
  },
  {
   "cell_type": "markdown",
   "metadata": {},
   "source": [
    "220941 unique ids."
   ]
  },
  {
   "cell_type": "code",
   "execution_count": 16,
   "metadata": {},
   "outputs": [],
   "source": [
    "cat_tab.write(\"TESS_Observed.fits\",overwrite=True)"
   ]
  },
  {
   "cell_type": "markdown",
   "metadata": {},
   "source": [
    "## Find targets that are in both TOI and CTOI\n",
    "All duplicates between TOI and CTOI are because another planet candidate was found!"
   ]
  },
  {
   "cell_type": "code",
   "execution_count": 17,
   "metadata": {},
   "outputs": [
    {
     "data": {
      "text/plain": [
       "array([ 98796344, 150030205, 153065527, 230127302, 257605131, 264979636,\n",
       "       288636342, 355867695, 415969908])"
      ]
     },
     "execution_count": 17,
     "metadata": {},
     "output_type": "execute_result"
    }
   ],
   "source": [
    "toi_id  = np.unique(cat_tab['TICID'][(cat_tab['Target_Type'] == 'exo_TOI')])\n",
    "ctoi_id  = np.unique(cat_tab['TICID'][(cat_tab['Target_Type'] == 'exo_CTOI')])\n",
    "all_toi_id = np.concatenate([toi_id,ctoi_id])\n",
    "(uniq_toi,uniq_count) = np.unique(all_toi_id,return_counts=True)\n",
    "uniq_toi[(uniq_count > 1)]"
   ]
  },
  {
   "cell_type": "code",
   "execution_count": 18,
   "metadata": {},
   "outputs": [
    {
     "data": {
      "text/html": [
       "<i>Table length=3</i>\n",
       "<table id=\"table139623749638160\" class=\"table-striped table-bordered table-condensed\">\n",
       "<thead><tr><th>TICID</th><th>Target_Type</th><th>TOI</th><th>TESS Disposition</th><th>TFOPWG Disposition</th><th>CTOI</th><th>User Disposition</th><th>Num_Sectors</th></tr></thead>\n",
       "<thead><tr><th>int64</th><th>str8</th><th>str32</th><th>str2</th><th>str2</th><th>str32</th><th>str2</th><th>float64</th></tr></thead>\n",
       "<tr><td>415969908</td><td>2min</td><td></td><td></td><td></td><td></td><td></td><td>1.0</td></tr>\n",
       "<tr><td>415969908</td><td>exo_TOI</td><td>233.01</td><td>PC</td><td>0</td><td></td><td></td><td>nan</td></tr>\n",
       "<tr><td>415969908</td><td>exo_CTOI</td><td></td><td></td><td>0</td><td>415969908.02</td><td>PC</td><td>nan</td></tr>\n",
       "</table>"
      ],
      "text/plain": [
       "<Table length=3>\n",
       "  TICID   Target_Type  TOI   ...     CTOI     User Disposition Num_Sectors\n",
       "  int64       str8    str32  ...    str32           str2         float64  \n",
       "--------- ----------- ------ ... ------------ ---------------- -----------\n",
       "415969908        2min        ...                                       1.0\n",
       "415969908     exo_TOI 233.01 ...                                       nan\n",
       "415969908    exo_CTOI        ... 415969908.02               PC         nan"
      ]
     },
     "execution_count": 18,
     "metadata": {},
     "output_type": "execute_result"
    }
   ],
   "source": [
    "cat_tab[(cat_tab['TICID']== 415969908)]"
   ]
  },
  {
   "cell_type": "code",
   "execution_count": null,
   "metadata": {},
   "outputs": [],
   "source": []
  }
 ],
 "metadata": {
  "kernelspec": {
   "display_name": "Python 3",
   "language": "python",
   "name": "python3"
  },
  "language_info": {
   "codemirror_mode": {
    "name": "ipython",
    "version": 3
   },
   "file_extension": ".py",
   "mimetype": "text/x-python",
   "name": "python",
   "nbconvert_exporter": "python",
   "pygments_lexer": "ipython3",
   "version": "3.7.6"
  }
 },
 "nbformat": 4,
 "nbformat_minor": 2
}
